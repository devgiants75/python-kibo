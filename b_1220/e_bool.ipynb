{
 "cells": [
  {
   "cell_type": "markdown",
   "id": "32d505da",
   "metadata": {},
   "source": [
    "# 불리언Boolean 자료형(논리형)\n",
    "\n",
    ": 참(True)와 거짓(False) 두 가지의 값만을 가지는 자료형\n",
    "\n",
    "### 불리언 자료형과 사용되는 연산자\n",
    ": and, or, not연산자 (논리 연산자)"
   ]
  },
  {
   "cell_type": "code",
   "execution_count": 4,
   "id": "98529774",
   "metadata": {},
   "outputs": [
    {
     "name": "stdout",
     "output_type": "stream",
     "text": [
      "False\n",
      "False\n",
      "True\n",
      "True\n",
      "True\n",
      "False\n"
     ]
    }
   ],
   "source": [
    "bool1 = True\n",
    "bool2 = False\n",
    "\n",
    "# and(그리고, 곱셈): 모든 값이 True일 때 True를 반환 \n",
    "# or(또는, 덧셈): 하나 이상의 값이 True일 때 True를 반환\n",
    "# not: True를 False로 False를 True로 반전\n",
    "\n",
    "print(True and False) # False\n",
    "print(False and False) # False\n",
    "\n",
    "print(True or False) # True\n",
    "print(False or True or False) # True\n",
    "\n",
    "print(not False) # True\n",
    "print(not True) # False"
   ]
  },
  {
   "cell_type": "code",
   "execution_count": null,
   "id": "86133c93",
   "metadata": {},
   "outputs": [],
   "source": [
    "# 아이디와 비밀번호를 입력하여 로그인 \n",
    "# 아이디 변수 = 아이디를 입력하지 않은 경우: False\n",
    "# 비밀번호 변수 = 비밀번호를 입력하지 않은 경우: False\n",
    "print(아이디 and 비밀번호)"
   ]
  },
  {
   "cell_type": "markdown",
   "id": "019bf02d",
   "metadata": {},
   "source": [
    "### 불리언 자료형과 비교 연산자"
   ]
  },
  {
   "cell_type": "code",
   "execution_count": 8,
   "id": "ec2ccd36",
   "metadata": {},
   "outputs": [
    {
     "name": "stdout",
     "output_type": "stream",
     "text": [
      "True\n",
      "False\n",
      "False\n",
      "True\n"
     ]
    }
   ],
   "source": [
    "# 비교연산자\n",
    "# : 부등호를 사용하는 연산자\n",
    "# : 값을 비교하여 불리언자료타입으로 반환\n",
    "# < >, <=, >=, ==(같다), !=(다르다)\n",
    "x = 10\n",
    "result = x < 20 # True\n",
    "print(result)\n",
    "\n",
    "result = x > 20 # False\n",
    "print(result)\n",
    "\n",
    "result = x == 20 # False\n",
    "print(result)\n",
    "\n",
    "result = x != 20 # True\n",
    "print(result)"
   ]
  },
  {
   "cell_type": "code",
   "execution_count": null,
   "id": "d3777287",
   "metadata": {},
   "outputs": [],
   "source": []
  }
 ],
 "metadata": {
  "kernelspec": {
   "display_name": "Python 3 (ipykernel)",
   "language": "python",
   "name": "python3"
  },
  "language_info": {
   "codemirror_mode": {
    "name": "ipython",
    "version": 3
   },
   "file_extension": ".py",
   "mimetype": "text/x-python",
   "name": "python",
   "nbconvert_exporter": "python",
   "pygments_lexer": "ipython3",
   "version": "3.11.5"
  }
 },
 "nbformat": 4,
 "nbformat_minor": 5
}
