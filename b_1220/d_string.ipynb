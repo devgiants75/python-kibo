{
 "cells": [
  {
   "cell_type": "markdown",
   "id": "2d6fff0d",
   "metadata": {},
   "source": [
    "# 파이썬 문자열\n",
    "\n",
    "### 파이썬 내부에서 따옴표 사용법\n",
    "1. 따옴표를 사용하는 방법\n",
    "\"I'm a developer\"\n",
    "'she says \"hello!\"'\n",
    "\n",
    "2. 이스케이프 코드\n",
    "    : 프로그래밍을 할 때 사용할 수 있도록 미리 정의해 둔 '문자 조합'\n",
    "    : 역슬래시(\\) 뒤에 사용하고자 하는 기호를 사용\n",
    "    : \\', \\\""
   ]
  },
  {
   "cell_type": "code",
   "execution_count": 2,
   "id": "3d9167a3",
   "metadata": {},
   "outputs": [
    {
     "name": "stdout",
     "output_type": "stream",
     "text": [
      "I'm a developer\n",
      "she says \"hello\"\n"
     ]
    }
   ],
   "source": [
    "print('I\\'m a developer')\n",
    "print(\"she says \\\"hello\\\"\")"
   ]
  },
  {
   "cell_type": "markdown",
   "id": "7af01067",
   "metadata": {},
   "source": [
    "### 문자열을 여러 줄로 나타내기\n",
    "\n",
    ": 여러 줄의 문자열\n",
    "1. 삼중 따옴표(''', \"\"\")\n",
    "2. 이스케이프 코드(\\n)"
   ]
  },
  {
   "cell_type": "code",
   "execution_count": 6,
   "id": "ec2e79e2",
   "metadata": {},
   "outputs": [
    {
     "name": "stdout",
     "output_type": "stream",
     "text": [
      "\n",
      "안녕하세요.\n",
      "파이썬 2주차 강의입니다.\n",
      "\n",
      "안녕하세요         \n",
      "파이썬 2주차 강의입니다.\n"
     ]
    }
   ],
   "source": [
    "print(\"\"\"\n",
    "안녕하세요.\n",
    "파이썬 2주차 강의입니다.\n",
    "\"\"\")\n",
    "\n",
    "print(\"안녕하세요         \\n파이썬 2주차 강의입니다.\")"
   ]
  },
  {
   "cell_type": "markdown",
   "id": "9db2cf0a",
   "metadata": {},
   "source": [
    "### 문자열 인덱싱 / 슬라이싱\n",
    "\n",
    "인덱싱(Indexing)\n",
    ": 문자열 내에서 특정 위치의 문자에 접근\n",
    ": 문자열 내의 문자들에 순서대로 번호(인덱스)를 부여(0부터 번호가 시작)\n",
    ": 띄어쓰기도 번호가 있음.\n",
    ": 변수명[인덱스 번호]\n",
    "\n",
    "슬라이싱(Slicing)\n",
    ": 문자열의 부분을 추출\n",
    ": [시작: 끝] 형식을 사용(시작 인덱스는 포함 / 끝 인덱스는 포함 X)"
   ]
  },
  {
   "cell_type": "code",
   "execution_count": 8,
   "id": "a0c6bbb5",
   "metadata": {},
   "outputs": [
    {
     "name": "stdout",
     "output_type": "stream",
     "text": [
      "기\n",
      "보\n",
      "금\n"
     ]
    }
   ],
   "source": [
    "name = \"기술 보증 기금\"\n",
    "\n",
    "# 인덱싱\n",
    "print(name[0]) # 기\n",
    "print(name[3]) # 보\n",
    "\n",
    "# 인덱싱에서 음수값을 사용하는 경우: 문자열의 끝에서 부터 시작\n",
    "# : -1 제일 마지막 문자\n",
    "print(name[-1]) # 금"
   ]
  },
  {
   "cell_type": "code",
   "execution_count": 12,
   "id": "83ae0c46",
   "metadata": {},
   "outputs": [
    {
     "name": "stdout",
     "output_type": "stream",
     "text": [
      "tech\n",
      "nology\n"
     ]
    }
   ],
   "source": [
    "tech = \"technology\"\n",
    "\n",
    "# 슬라이싱\n",
    "print(tech[0:4])\n",
    "print(tech[4:10])"
   ]
  },
  {
   "cell_type": "markdown",
   "id": "8c163772",
   "metadata": {},
   "source": [
    "### 문자열 포맷팅\n",
    "\n",
    ": 변수나 값의 데이터를 문자열 내에 삽입하거나, 문자열을 특정 형식에 맞게 조정하는 방법\n",
    "\n",
    "1. 포맷 코드\n",
    "    : 문자열, 정수, 소수점의 데이터를 문자열에 삽입할 때 사용\n",
    "    %s - 문자열\n",
    "    %d - 정수\n",
    "    %f - 소수점\n",
    "    \n",
    "2. format 내장 함수\n",
    "    : 중괄호 {}를 사용하여 문자열 내에 데이터를 삽입\n",
    "    \n",
    "3. f-문자열 포맷팅(3.6 이상에서 사용 가능)\n",
    "    : 문자열 앞에 f를 붙여, 중괄호 안에 직접 변수를 넣어 포매팅"
   ]
  },
  {
   "cell_type": "code",
   "execution_count": 23,
   "id": "43cfb24c",
   "metadata": {},
   "outputs": [
    {
     "name": "stdout",
     "output_type": "stream",
     "text": [
      "Name: Lee Seung Ah, Height: 169.20, Number: 10\n",
      "Name: Lee Seung Ah, Height: 169.2, Number: 10\n",
      "Number: 10, Name: Lee Seung Ah, Height: 169.2\n"
     ]
    }
   ],
   "source": [
    "name = 'Lee Seung Ah' # 문자열\n",
    "height = 169.2 # 소수\n",
    "number = 10 # 정수\n",
    "\n",
    "print(\"Name: %s, Height: %.2f, Number: %d\" % (name, height, number))\n",
    "\n",
    "print(\"Name: {}, Height: {}, Number: {}\".format(name, height, number))\n",
    "# : format 함수 사용 시 변수의 순서를 잘 파악하여 작성\n",
    "\n",
    "print(f\"Number: {number}, Name: {name}, Height: {height}\")\n",
    "# 변수 그대로를 사용하기 때문에 순서에 상관없이 작성 가능"
   ]
  },
  {
   "cell_type": "markdown",
   "id": "46918519",
   "metadata": {},
   "source": [
    "### 문자열 내장 함수\n",
    ": 변수명.내장함수명() 형태로 사용"
   ]
  },
  {
   "cell_type": "code",
   "execution_count": 35,
   "id": "72bd9dd1",
   "metadata": {},
   "outputs": [
    {
     "name": "stdout",
     "output_type": "stream",
     "text": [
      "HELLO, 파이썬!\n",
      "hello, 파이썬\n",
      "2\n",
      "1\n",
      "a/b/c\n",
      "Hello\n",
      "Hello 파이썬\n"
     ]
    }
   ],
   "source": [
    "# upper(): 문자열을 대문자로 변환 (영문자만 사용 가능)\n",
    "str = \"Hello, 파이썬!\"\n",
    "print(str.upper())\n",
    "\n",
    "# lower(): 문자열을 소문자로 변환 (영문자만 사용 가능)\n",
    "str = \"HELLO, 파이썬\"\n",
    "print(str.lower())\n",
    "\n",
    "# count(): 문자열 내에서 특정 부분 문자열의 출현 횟수를 반환\n",
    "str = \"icecream\"\n",
    "print(str.count('c')) # 2\n",
    "\n",
    "# find(): 특정 부분 문자열이 시작되는 첫 번째 위치를 반환\n",
    "str = \"icecream\"\n",
    "print(str.find('c')) # 1 (인덱스 번호 1, 두 번째 문자)\n",
    "\n",
    "# join(): 주어진 문자열로 각 요소를 연결\n",
    "# : join의 경우 구분 되어진 각 요소들을 정해진 문자열로 나누어서 작성\n",
    "list = ['a', 'b', 'c']\n",
    "print('/'.join(list)) # a/b/c\n",
    "\n",
    "# strip(): 문자열의 양쪽 끝에 있는 공백을 제거\n",
    "print('         Hello          '.strip())\n",
    "\n",
    "# replace(old, new): 문자열 내에서 특정 부분을 다른 문자열로 교체\n",
    "str = \"Hello Python\"\n",
    "print(str.replace('Python', '파이썬'))"
   ]
  }
 ],
 "metadata": {
  "kernelspec": {
   "display_name": "Python 3 (ipykernel)",
   "language": "python",
   "name": "python3"
  },
  "language_info": {
   "codemirror_mode": {
    "name": "ipython",
    "version": 3
   },
   "file_extension": ".py",
   "mimetype": "text/x-python",
   "name": "python",
   "nbconvert_exporter": "python",
   "pygments_lexer": "ipython3",
   "version": "3.11.5"
  }
 },
 "nbformat": 4,
 "nbformat_minor": 5
}
