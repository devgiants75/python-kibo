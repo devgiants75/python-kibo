{
 "cells": [
  {
   "cell_type": "markdown",
   "id": "02837152",
   "metadata": {},
   "source": [
    "# 조건문(Condition)\n",
    "\n",
    "1. 정의\n",
    ": 특정 조건에 따라 다른 동작을 수행하도록 하는 프로그래밍 구조\n",
    "\n",
    "2. 사용방법\n",
    ": if(~라면-해당 조건O), else(그밖에-해당 조건X), elif(상위 조건X, 해당조건O)\n",
    "\n",
    "if문: 조건이 True(참)일 때 실행\n",
    "elif문(else if의 줄임말): 이전 조건이 거짓이고, 새로운 조건이 참일 때 실행\n",
    "    : 여러 개 사용 가능\n",
    "else문: 모든 조건이 False(거짓)일 때 실행\n",
    "\n",
    "#### 조건식 다음(콜론 아래식)에는 반드시 들여쓰기가 되어야 한다!!!!!\n",
    "if 조건1:\n",
    "    조건1이 참일 때 실행되는 코드\n",
    "elif 조건2:\n",
    "    조건1이 거짓, 조건2가 참일 때 실행되는 코드\n",
    "else:\n",
    "    모든 조건이 거짓일 때 실행될 코드"
   ]
  },
  {
   "cell_type": "code",
   "execution_count": 6,
   "id": "3175738c",
   "metadata": {},
   "outputs": [
    {
     "name": "stdout",
     "output_type": "stream",
     "text": [
      "어른입니다.\n"
     ]
    }
   ],
   "source": [
    "# 조건식을 사용한 예제\n",
    "# 13살 이하 어린이\n",
    "# 14살부터 19살까지 청소년\n",
    "# 20살 이상 어른\n",
    "\n",
    "age = 23\n",
    "\n",
    "if age <= 13:\n",
    "    print('어린이입니다.')\n",
    "elif age >= 14 and age <= 19:\n",
    "    print('청소년입니다.')\n",
    "else:\n",
    "    print('어른입니다.')\n",
    "    \n",
    "# 조건식은 반드시 들여쓰기 구문에 대한 코드 점검을 실행 전에 해야함.\n",
    "# 조건식 작성 이후 콜론(:)을 반드시 작성해야함."
   ]
  },
  {
   "cell_type": "markdown",
   "id": "a8e9842e",
   "metadata": {},
   "source": [
    "# 파이썬의 입출력\n",
    "\n",
    "1. 출력\n",
    "print(출력하고자 하는 데이터)함수를 사용\n",
    ": 실행 시 print 안의 내용이 출력\n",
    "\n",
    "2. 입력\n",
    "input()함수를 사용: 키보드로 입력하는 방법\n",
    ": input()함수로 데이터를 받아오면 문자열 타입으로 자동 지정\n",
    "\n",
    "사용법\n",
    "input(받을 내용에 대한 설명)"
   ]
  },
  {
   "cell_type": "code",
   "execution_count": 22,
   "id": "98ca06a6",
   "metadata": {
    "scrolled": true
   },
   "outputs": [
    {
     "name": "stdout",
     "output_type": "stream",
     "text": [
      "값을 입력하세요: 55\n"
     ]
    }
   ],
   "source": [
    "user_input = input('값을 입력하세요: ') # '85'\n",
    "\n",
    "# input으로 받아오는 값은 문자열타입으로 자동 지정\n",
    "budget_util = int(user_input)"
   ]
  },
  {
   "cell_type": "code",
   "execution_count": 23,
   "id": "9e4d4d28",
   "metadata": {},
   "outputs": [
    {
     "name": "stdout",
     "output_type": "stream",
     "text": [
      "안정적인 예산 관리 중입니다.\n"
     ]
    }
   ],
   "source": [
    "# 가정 예산 관리 시스템\n",
    "\n",
    "# 가계예산사용률 100을 넘으면 \"예산초과\"출력\n",
    "# 80을 넘으면 \"주의: 예산에 접근하고 있습니다.\"출력\n",
    "# 50을 넘으면 \"안정적인 예산 관리 중입니다.\"출력\n",
    "# 그 밖에는 \"이상 없습니다.\" \n",
    "if budget_util > 100:\n",
    "    print(\"예산 초과\")\n",
    "elif budget_util > 80: # if조건식은 거짓이고 해당 조건문의 조건이 참일 때 실행\n",
    "    print(\"주의: 예산에 접근하고 있습니다.\")\n",
    "elif budget_util > 50: # if조건식과 위의 조건식이 거짓이고 해당 조건은 참일 때 실행\n",
    "    print(\"안정적인 예산 관리 중입니다.\")\n",
    "else:\n",
    "    print(\"이상 없습니다.\")"
   ]
  },
  {
   "cell_type": "code",
   "execution_count": null,
   "id": "a9923db5",
   "metadata": {},
   "outputs": [],
   "source": []
  }
 ],
 "metadata": {
  "kernelspec": {
   "display_name": "Python 3 (ipykernel)",
   "language": "python",
   "name": "python3"
  },
  "language_info": {
   "codemirror_mode": {
    "name": "ipython",
    "version": 3
   },
   "file_extension": ".py",
   "mimetype": "text/x-python",
   "name": "python",
   "nbconvert_exporter": "python",
   "pygments_lexer": "ipython3",
   "version": "3.11.5"
  }
 },
 "nbformat": 4,
 "nbformat_minor": 5
}
