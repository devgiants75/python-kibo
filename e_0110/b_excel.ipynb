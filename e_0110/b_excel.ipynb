{
 "cells": [
  {
   "cell_type": "markdown",
   "id": "ff8801fb",
   "metadata": {},
   "source": [
    "# pandas & openpyxl을 사용한 엑셀 파일 시트 사용"
   ]
  },
  {
   "cell_type": "code",
   "execution_count": 6,
   "id": "38207106",
   "metadata": {},
   "outputs": [],
   "source": [
    "import pandas as pd\n",
    "from openpyxl import load_workbook\n",
    "\n",
    "# 1. 엑셀 파일 불러오기 및 시트 선택\n",
    "\n",
    "# 엑셀 파일 불러오기\n",
    "wb = load_workbook('example.xlsx')\n",
    "\n",
    "# 기존에 있는 첫 번째 시트 선택\n",
    "sheet = wb.active\n",
    "\n",
    "# 2. 새 시트 생성 및 이름 변경\n",
    "# 새 시트 생성\n",
    "# wb.create_sheet(title=\"NewSheet\")\n",
    "\n",
    "# 생성한 시트의 이름 변경\n",
    "# wb['NewSheet'].title = \"RenamedSheet\"\n",
    "\n",
    "# 3. 시트 복사하기\n",
    "# RenamedSheet 시트를 복사하여 새 시트 생성\n",
    "# wb.copy_worksheet(wb['RenamedSheet'])\n",
    "\n",
    "# 4. 시트 순서 변경\n",
    "# 시트를 리스트로 관리(첫 번째 시트: 0)\n",
    "# wb.sheetnames\n",
    "# : 해당 엑셀 파일에 있는 시트들의 이름을 리스트로 반환\n",
    "sheet_names = wb.sheetnames\n",
    "\n",
    "# 첫 번째와 두 번째 시트의 순서를 변경\n",
    "wb._sheets = [wb[sheet_names[1]], wb[sheet_names[0]]]\n",
    "\n",
    "# 5. 시트 삭제하기\n",
    "wb.remove(wb['RenamedSheet'])\n",
    "\n",
    "# 변경사항을 저장\n",
    "wb.save('example.xlsx')\n",
    "\n",
    "# 파일 닫기\n",
    "wb.close()"
   ]
  },
  {
   "cell_type": "code",
   "execution_count": 12,
   "id": "795116a7",
   "metadata": {},
   "outputs": [
    {
     "name": "stdout",
     "output_type": "stream",
     "text": [
      "LSA\n",
      "-------------\n",
      "LSA\n",
      "KSH\n",
      "LJG\n",
      "LJH\n",
      "LAC\n",
      "LAC\n"
     ]
    }
   ],
   "source": [
    "import pandas as pd\n",
    "\n",
    "# openpyxl의 엑셀 불러오기 - 파일 그대로를 저장\n",
    "# 엑셀 파일을 불러오기 - DataFrame으로 변환\n",
    "df = pd.read_excel('example.xlsx')\n",
    "\n",
    "# 셀 내용 수정 및 삽입\n",
    "# 두 번재 행의 Name 열 값을 변경\n",
    "df.loc[1, 'Name'] = 'KSH'\n",
    "\n",
    "# 셀 내용 삽입\n",
    "df.loc[5]= ['LAC', 31, 'Jeju']\n",
    "\n",
    "# 셀 내용 확인\n",
    "print(df.loc[0, 'Name'])\n",
    "\n",
    "# 반복문을 사용하여 셀 정보에 접근\n",
    "# 모든 행의 'Name' 열에 접근\n",
    "print(\"-------------\")\n",
    "for index, row in df.iterrows():\n",
    "    print(row['Name'])\n",
    "    \n",
    "# 특정 열 삭제\n",
    "# drop('삭제하고자하는 열의 이름', \n",
    "# axis=1(열), 0(행), inplace=True(원본 데이터 수정))\n",
    "# inplace가 False경우 기존 데이터프레임은 그대로 두고 새로운 \n",
    "# , 데이터 프레임이 반환\n",
    "df.drop('Age', axis=1, inplace=True)\n",
    "\n",
    "# 변경 사항을 엑셀 파일로 저장\n",
    "df.to_excel('example.xlsx', index=False)"
   ]
  }
 ],
 "metadata": {
  "kernelspec": {
   "display_name": "Python 3 (ipykernel)",
   "language": "python",
   "name": "python3"
  },
  "language_info": {
   "codemirror_mode": {
    "name": "ipython",
    "version": 3
   },
   "file_extension": ".py",
   "mimetype": "text/x-python",
   "name": "python",
   "nbconvert_exporter": "python",
   "pygments_lexer": "ipython3",
   "version": "3.11.5"
  }
 },
 "nbformat": 4,
 "nbformat_minor": 5
}
