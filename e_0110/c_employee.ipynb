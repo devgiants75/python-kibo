{
 "cells": [
  {
   "cell_type": "code",
   "execution_count": 3,
   "id": "31da9fea",
   "metadata": {
    "scrolled": false
   },
   "outputs": [
    {
     "data": {
      "text/plain": [
       "'employee.xlsx'"
      ]
     },
     "execution_count": 3,
     "metadata": {},
     "output_type": "execute_result"
    }
   ],
   "source": [
    "import pandas as pd\n",
    "\n",
    "# 원본 Excel 파일을 로드\n",
    "file_path = \"employee.xlsx\"\n",
    "\n",
    "# pandas의 read_excel 함수를 사용하여 \n",
    "# , Excel 파일을 데이터프레임 형태로 반환\n",
    "original_df = pd.read_excel(file_path)\n",
    "\n",
    "# 해당 데이터 프레임의 '소속' 열에 있는 \n",
    "# 모든 고유 값들의 출현 횟수를 계산\n",
    "# : 각 소속별 재직 인원 수를 계산\n",
    "\n",
    "# value_counts()\n",
    "# : 해당 컬럼에 포함된 각각의 값들이 몇 번 나타나는지를 계산\n",
    "# 키-값의 구조로 반환\n",
    "employee_count_by_group_january= original_df['소속'].value_counts()\n",
    "\n",
    "# 계산된 데이터에서 값을 분류\n",
    "# get(key, default)\n",
    "# : 지정된 키(key)에 해당하는 값을 데이터에서 찾아 반환\n",
    "# : 만약 해당 키가 존재하지 않으면, 지정된 기본값을 반환\n",
    "count_A = employee_count_by_group_january.get('A', 0)\n",
    "count_B = employee_count_by_group_january.get('B', 0)\n",
    "count_C = employee_count_by_group_january.get('C', 0)\n",
    "\n",
    "# 고용 보험 가입자 현황을 나타내기 위한 데이터 프레임 생성\n",
    "# 열: columns 리스트\n",
    "# 행: index 리스트\n",
    "columns = ['1월', '2월', '3월', '4월', '5월', '6월', '7월', '8월', '9월', '10월', '11월', '12월']\n",
    "index = ['재직인원', '퇴사인원', '입사인원', '총계']\n",
    "\n",
    "# 첫 번째 행은 count_A(A그룹 직원 수) + 11공백\n",
    "# 두 번째 행은 12 공백\n",
    "# 세 번째 행은 12 공백\n",
    "\n",
    "# columns 데이터 프레임의 열 이름을 지정\n",
    "# index 데이터 프레임의 행 인덱스를 지정\n",
    "df_A = pd.DataFrame([[count_A] + [''] * 11, [''] * 12, [''] * 12, [''] * 12], columns=columns, index=index)\n",
    "df_B = pd.DataFrame([[count_B] + [''] * 11, [''] * 12, [''] * 12, [''] * 12], columns=columns, index=index)\n",
    "df_C = pd.DataFrame([[count_C] + [''] * 11, [''] * 12, [''] * 12, [''] * 12], columns=columns, index=index)\n",
    "\n",
    "# pd.ExcelWriter(): pandas의 ExcelWriter 기능을 수행\n",
    "# : Excel 파일을 쓰기위한 매니저 역할\n",
    "# : 파일 작업이 완료되면 자동으로 파일이 닫히고 리소스 정리\n",
    "\n",
    "# engine=\"openpyxl\"\n",
    "# : Excel파일을 읽고 쓰기 위한 엔진으로 openpyxl을 사용 \n",
    "\n",
    "# mode=\"a\"\n",
    "# : append모드\n",
    "# : 기존 파일에 새로운 내용을 추가\n",
    "# : 파일이 이미 존재할 경우, 새로운 내용이 기존 내용에 추가\n",
    "# : 존재하지 않는다면 생성하여 내용 추가\n",
    "with pd.ExcelWriter(file_path, engine=\"openpyxl\", mode=\"a\") as writer:\n",
    "    df_A.to_excel(writer, sheet_name='A_고용보험 가입자 현황')\n",
    "    df_B.to_excel(writer, sheet_name='B_고용보험 가입자 현황')\n",
    "    df_C.to_excel(writer, sheet_name='C_고용보험 가입자 현황')\n",
    "    \n",
    "# 사용된 파일 경로를 반환\n",
    "file_path"
   ]
  }
 ],
 "metadata": {
  "kernelspec": {
   "display_name": "Python 3 (ipykernel)",
   "language": "python",
   "name": "python3"
  },
  "language_info": {
   "codemirror_mode": {
    "name": "ipython",
    "version": 3
   },
   "file_extension": ".py",
   "mimetype": "text/x-python",
   "name": "python",
   "nbconvert_exporter": "python",
   "pygments_lexer": "ipython3",
   "version": "3.11.5"
  }
 },
 "nbformat": 4,
 "nbformat_minor": 5
}
