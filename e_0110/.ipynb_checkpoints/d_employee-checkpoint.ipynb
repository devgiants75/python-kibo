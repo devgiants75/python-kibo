{
 "cells": [
  {
   "cell_type": "markdown",
   "id": "77da011f",
   "metadata": {},
   "source": [
    "# Sheet1 데이터\n",
    "\n",
    "# 각 소속별 시트로 재직인원이 계산되어 저장"
   ]
  },
  {
   "cell_type": "code",
   "execution_count": 7,
   "id": "2948b794",
   "metadata": {},
   "outputs": [
    {
     "data": {
      "text/plain": [
       "'employee.xlsx'"
      ]
     },
     "execution_count": 7,
     "metadata": {},
     "output_type": "execute_result"
    }
   ],
   "source": [
    "import pandas as pd\n",
    "\n",
    "file_path = \"employee.xlsx\"\n",
    "\n",
    "excel_data = pd.read_excel(file_path, sheet_name=None)\n",
    "\n",
    "additional_data = [\n",
    "    {\"no\": 34, \"이름\": \"이승아\", \"분야\": \"소방\", \"급수\": \"초급\"\n",
    "     , \"부서\": \"설계부\", \"직위\": \"대리\", \"최초 입사일\": \"2024-01-10\"\n",
    "     ,\"주소\": \"부산시 가상구 가상동\", \"휴대폰 번호\": \"010-1111-2222\", \"소속\": \"C\"},\n",
    "    {\"no\": 34, \"이름\": \"이승아\", \"분야\": \"소방\", \"급수\": \"초급\"\n",
    "     , \"부서\": \"설계부\", \"직위\": \"대리\", \"최초 입사일\": \"2024-01-10\"\n",
    "     ,\"주소\": \"부산시 가상구 가상동\", \"휴대폰 번호\": \"010-1111-2222\", \"소속\": \"A\"},\n",
    "    {\"no\": 34, \"이름\": \"이승아\", \"분야\": \"소방\", \"급수\": \"초급\"\n",
    "     , \"부서\": \"설계부\", \"직위\": \"대리\", \"최초 입사일\": \"2024-01-10\"\n",
    "     ,\"주소\": \"부산시 가상구 가상동\", \"휴대폰 번호\": \"010-1111-2222\", \"소속\": \"B\"}\n",
    "]\n",
    "    \n",
    "# 기존에 있는 데이터 프레임에 연결\n",
    "# ignore_index\n",
    "# : 데이터 프레임을 서로 연결 할 때 기존의 인덱스를 무시하고 연결된 데이터프레임을\n",
    "# : , 기준으로 새로 생성\n",
    "sheet1_df = pd.concat([excel_data['Sheet1']\n",
    "                       , pd.DataFrame(additional_data)], ignore_index=True)\n",
    "\n",
    "# 추가 데이터를 업데이트\n",
    "for entity in additional_data:\n",
    "    # 각 항목의 '소속' 값을 변수에 할당\n",
    "    affiliation = entity['소속']\n",
    "    \n",
    "    employment_insurance_sheet = f\"{affiliation}_고용보험 가입자 현황\"\n",
    "    \n",
    "    # 위에서 만든 시트 이름 사용하여 해당 시트의 데이터를 가져옴\n",
    "    employment_insurance_df = excel_data[employment_insurance_sheet]\n",
    "    \n",
    "    # 추가된 데이터의 최초 입사일을 datetime 객체로 변환하여 해당 월을 추출\n",
    "    # '다음 주'\n",
    "    joining_month = \"1\"\n",
    "    \n",
    "    month_column = f\"{joining_month}월\"\n",
    "    \n",
    "    employment_insurance_df.loc[employment_insurance_df['Unnamed: 0'] == '입사인원'\n",
    "                                , month_column] = \\\n",
    "        employment_insurance_df.loc[employment_insurance_df['Unnamed: 0'] == '입사인원'\n",
    "                                    , month_column].fillna(0) + 1\n",
    "    \n",
    "file_path"
   ]
  },
  {
   "cell_type": "code",
   "execution_count": null,
   "id": "f0d8a1f4",
   "metadata": {},
   "outputs": [],
   "source": []
  }
 ],
 "metadata": {
  "kernelspec": {
   "display_name": "Python 3 (ipykernel)",
   "language": "python",
   "name": "python3"
  },
  "language_info": {
   "codemirror_mode": {
    "name": "ipython",
    "version": 3
   },
   "file_extension": ".py",
   "mimetype": "text/x-python",
   "name": "python",
   "nbconvert_exporter": "python",
   "pygments_lexer": "ipython3",
   "version": "3.11.5"
  }
 },
 "nbformat": 4,
 "nbformat_minor": 5
}
