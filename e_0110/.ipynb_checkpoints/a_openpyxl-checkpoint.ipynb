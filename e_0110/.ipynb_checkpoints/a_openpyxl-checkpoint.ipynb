{
 "cells": [
  {
   "cell_type": "markdown",
   "id": "2e82d3c5",
   "metadata": {},
   "source": [
    "# pandas, openpyxl\n",
    "\n",
    "## 외부 라이브러리를 사용하여 파이썬에서 엑셀 파일 활용"
   ]
  },
  {
   "cell_type": "code",
   "execution_count": 4,
   "id": "9093b31e",
   "metadata": {},
   "outputs": [],
   "source": [
    "# 외부 라이브러리를 import를 통해 가져와서 'pd'라는 별칭을 붙여줌.\n",
    "import pandas as pd\n",
    "\n",
    "data = {\n",
    "    'Name': ['LSA', 'LDK', 'LJG', 'LJH'],\n",
    "    'Age': [28, 30, 30, 34],\n",
    "    'City': ['Busan', 'Seoul', 'Daejeon', 'Busan']\n",
    "}\n",
    "\n",
    "# 데이터 프레임 생성\n",
    "# : pandas 라이브러리의 DataFrame() 데이터 프레임 생성 함수를 사용\n",
    "df = pd.DataFrame(data)\n",
    "\n",
    "# 데이터 프레임을 엑셀 파일로 저장\n",
    "# : 변수명.to_excel('엑셀파일명.xlsx', index=False)\n",
    "# index=False\n",
    "# : pandas가 데이터 프레임을 엑셀 파일로 저장할 때 인덱스를 파일에 포함하지 X\n",
    "df.to_excel('example.xlsx', index=False)"
   ]
  },
  {
   "cell_type": "markdown",
   "id": "53ebc730",
   "metadata": {},
   "source": [
    "# openpyxl \n",
    "\n",
    "## : 파이썬에서 엑셀 데이터 다루기"
   ]
  },
  {
   "cell_type": "code",
   "execution_count": 14,
   "id": "32fec539",
   "metadata": {},
   "outputs": [],
   "source": [
    "# import pandas as pd\n",
    "\n",
    "# openpyxl 라이브러리 사용\n",
    "# load_workbook\n",
    "# : 지정된 경로에 있는 엑셀 파일을 불러와 파이썬에서 다룰 수 있는 객체로 변경\n",
    "from openpyxl import load_workbook\n",
    "\n",
    "# 엑셀 파일 불러오기\n",
    "# load_workbook('파일명.확장자')\n",
    "wb = load_workbook('example.xlsx')\n",
    "\n",
    "# 기존에 있는 첫 번째 시트 선택\n",
    "sheet = wb.active\n",
    "\n",
    "# 특정 이름의 시트 선택\n",
    "# selected_sheet = wb['시트명']\n",
    "\n",
    "# 특정 위치의 시트에 접근\n",
    "# 위치: 전체 시트가 리스트로 저장 - 0부터 시작\n",
    "# selected_sheet = wb.worksheets[위치]\n",
    "\n",
    "# 셀 서식, 폰트 및 색상 변경\n",
    "# openpyxl의 스타일 기능을 사용\n",
    "from openpyxl.styles import Font, Color, Alignment, PatternFill\n",
    "\n",
    "# 첫 번째 행(제목 행)의 폰트와 정렬 변경\n",
    "# 첫 번째 행에 있는 모든 셀에 대해서 반복\n",
    "for cell in sheet['1:1']:\n",
    "    cell.font = Font(bold=True, color=\"FFFFFF\")\n",
    "    cell.alignment = Alignment(horizontal=\"center\")\n",
    "    # 단색으로 색상 지정하는 방법\n",
    "    cell.fill = PatternFill(start_color=\"0000FF\", end_color=\"0000FF\", fill_type=\"solid\")\n",
    "    \n",
    "# 각 열의 너비를 조정\n",
    "sheet.column_dimensions['A'].width = 20\n",
    "sheet.column_dimensions['B'].width = 10\n",
    "sheet.column_dimensions['C'].width = 20\n",
    "\n",
    "# 행의 높이를 조정\n",
    "# 첫 번째 행의 높이를 20으로 설정\n",
    "sheet.row_dimensions[1].height = 20\n",
    "\n",
    "# 동일한 파일을 업데이트\n",
    "# save('동일한 파일명.확장자')\n",
    "# 새로운 파일을 생성\n",
    "# save('생성할 파일명.확장자')\n",
    "wb.save('example_modified.xlsx')\n",
    "\n",
    "# 엑셀 파일 닫기\n",
    "wb.close()"
   ]
  }
 ],
 "metadata": {
  "kernelspec": {
   "display_name": "Python 3 (ipykernel)",
   "language": "python",
   "name": "python3"
  },
  "language_info": {
   "codemirror_mode": {
    "name": "ipython",
    "version": 3
   },
   "file_extension": ".py",
   "mimetype": "text/x-python",
   "name": "python",
   "nbconvert_exporter": "python",
   "pygments_lexer": "ipython3",
   "version": "3.11.5"
  }
 },
 "nbformat": 4,
 "nbformat_minor": 5
}
