{
 "cells": [
  {
   "cell_type": "markdown",
   "id": "5bb1a3ed",
   "metadata": {},
   "source": [
    "# 엑셀 파일 업데이트\n",
    "\n",
    "### 퇴사 날짜를 지정하는 컬럼 설정"
   ]
  },
  {
   "cell_type": "code",
   "execution_count": 24,
   "id": "3c03afec",
   "metadata": {},
   "outputs": [],
   "source": [
    "# pandas 라이브러리를 pd라는 별칭으로 임포트\n",
    "import pandas as pd\n",
    "\n",
    "# 사용할 엑셀 파일 경로 지정\n",
    "file_path = \"employee.xlsx\"\n",
    "\n",
    "# pandas의 read_excel()함수를 사용: 엑셀 파일을 읽어오기\n",
    "excel_data = pd.read_excel(file_path, sheet_name=None)\n",
    "\n",
    "# 읽어온 엑셀 데이터에서 'Sheet1' 시트를 선택하여 DataFrame 형태로 저장\n",
    "sheet1_df = excel_data['Sheet1']\n",
    "\n",
    "# 데이터프레임 형태의 sheet1_df에 '퇴사 날짜'라는 새로운 열을 추가\n",
    "# : 초기값은 비워둠\n",
    "# : Not a Time: 시간 데이터가 없음을 의미\n",
    "sheet1_df['퇴사 날짜'] = pd.NaT\n",
    "\n",
    "# 변경된 Sheet1 데이터를 다시 excel_data에 저장\n",
    "# : 원래의 Sheet1 데이터가 업데이트\n",
    "excel_data['Sheet1'] = sheet1_df\n",
    "\n",
    "# 변경된 데이터를 파일로 저장\n",
    "with pd.ExcelWriter(file_path, engine='openpyxl', mode='w') as writer:\n",
    "    # 모든 시트를 순회\n",
    "    for sheet_name, df in excel_data.items():\n",
    "        # 각 시트를 파일에 저장, 시트이름은 각 시트이름 그대로\n",
    "        df.to_excel(writer, sheet_name=sheet_name, index=False)"
   ]
  },
  {
   "cell_type": "markdown",
   "id": "883889ec",
   "metadata": {},
   "source": [
    "### 생성된 퇴사 날짜 열에 데이터(퇴사 날짜)를 추가하는 경우\n",
    "### : 추가된 해당 행의 소속을 파악하여 그 소속의 고용보험 가입자 현황 시트로 \n",
    "### : 퇴사 날짜의 열에 값이 추가되도록 설정"
   ]
  },
  {
   "cell_type": "code",
   "execution_count": 22,
   "id": "d6b57de1",
   "metadata": {},
   "outputs": [
    {
     "ename": "KeyError",
     "evalue": "'퇴사 날짜'",
     "output_type": "error",
     "traceback": [
      "\u001b[1;31m---------------------------------------------------------------------------\u001b[0m",
      "\u001b[1;31mKeyError\u001b[0m                                  Traceback (most recent call last)",
      "File \u001b[1;32mC:\\ProgramData\\anaconda3\\Lib\\site-packages\\pandas\\core\\indexes\\base.py:3653\u001b[0m, in \u001b[0;36mIndex.get_loc\u001b[1;34m(self, key)\u001b[0m\n\u001b[0;32m   3652\u001b[0m \u001b[38;5;28;01mtry\u001b[39;00m:\n\u001b[1;32m-> 3653\u001b[0m     \u001b[38;5;28;01mreturn\u001b[39;00m \u001b[38;5;28mself\u001b[39m\u001b[38;5;241m.\u001b[39m_engine\u001b[38;5;241m.\u001b[39mget_loc(casted_key)\n\u001b[0;32m   3654\u001b[0m \u001b[38;5;28;01mexcept\u001b[39;00m \u001b[38;5;167;01mKeyError\u001b[39;00m \u001b[38;5;28;01mas\u001b[39;00m err:\n",
      "File \u001b[1;32mC:\\ProgramData\\anaconda3\\Lib\\site-packages\\pandas\\_libs\\index.pyx:147\u001b[0m, in \u001b[0;36mpandas._libs.index.IndexEngine.get_loc\u001b[1;34m()\u001b[0m\n",
      "File \u001b[1;32mC:\\ProgramData\\anaconda3\\Lib\\site-packages\\pandas\\_libs\\index.pyx:176\u001b[0m, in \u001b[0;36mpandas._libs.index.IndexEngine.get_loc\u001b[1;34m()\u001b[0m\n",
      "File \u001b[1;32mpandas\\_libs\\hashtable_class_helper.pxi:7080\u001b[0m, in \u001b[0;36mpandas._libs.hashtable.PyObjectHashTable.get_item\u001b[1;34m()\u001b[0m\n",
      "File \u001b[1;32mpandas\\_libs\\hashtable_class_helper.pxi:7088\u001b[0m, in \u001b[0;36mpandas._libs.hashtable.PyObjectHashTable.get_item\u001b[1;34m()\u001b[0m\n",
      "\u001b[1;31mKeyError\u001b[0m: '퇴사 날짜'",
      "\nThe above exception was the direct cause of the following exception:\n",
      "\u001b[1;31mKeyError\u001b[0m                                  Traceback (most recent call last)",
      "Cell \u001b[1;32mIn[22], line 16\u001b[0m\n\u001b[0;32m     11\u001b[0m sheet1_df \u001b[38;5;241m=\u001b[39m excel_data[\u001b[38;5;124m'\u001b[39m\u001b[38;5;124mSheet1\u001b[39m\u001b[38;5;124m'\u001b[39m]\n\u001b[0;32m     13\u001b[0m \u001b[38;5;66;03m# 퇴사 날짜 열을 datetime 타입으로 변환 (YYYY-MM-DD hh:mm:ss)\u001b[39;00m\n\u001b[0;32m     14\u001b[0m \u001b[38;5;66;03m# : 해당 열에 입력되는 문자열을 날짜로 변환하여 해석\u001b[39;00m\n\u001b[0;32m     15\u001b[0m \u001b[38;5;66;03m# : 해당 열에 데이터를 추가할 때는 문자열로 입력\u001b[39;00m\n\u001b[1;32m---> 16\u001b[0m sheet1_df[\u001b[38;5;124m'\u001b[39m\u001b[38;5;124m퇴사 날짜\u001b[39m\u001b[38;5;124m'\u001b[39m] \u001b[38;5;241m=\u001b[39m pd\u001b[38;5;241m.\u001b[39mto_datetime(sheet1_df[\u001b[38;5;124m'\u001b[39m\u001b[38;5;124m퇴사 날짜\u001b[39m\u001b[38;5;124m'\u001b[39m], errors\u001b[38;5;241m=\u001b[39m\u001b[38;5;124m'\u001b[39m\u001b[38;5;124mcoerce\u001b[39m\u001b[38;5;124m'\u001b[39m)\n\u001b[0;32m     18\u001b[0m \u001b[38;5;66;03m#퇴사 날짜와 소속에 따른 퇴사 인원 집계\u001b[39;00m\n\u001b[0;32m     19\u001b[0m \u001b[38;5;66;03m# '퇴사 날짜'가 존재하는 행만 선택 \u001b[39;00m\n\u001b[0;32m     20\u001b[0m \u001b[38;5;66;03m#  > '소속'과 '퇴사 날짜'의 월별로 그룹화하여 퇴사 인원 계산\u001b[39;00m\n\u001b[0;32m     21\u001b[0m \n\u001b[0;32m     22\u001b[0m \u001b[38;5;66;03m# notna(): 누락되지 않은 값을 찾아내는 함수\u001b[39;00m\n\u001b[0;32m     23\u001b[0m leaving_counts \u001b[38;5;241m=\u001b[39m sheet1_df[sheet1_df[\u001b[38;5;124m'\u001b[39m\u001b[38;5;124m퇴사 날짜\u001b[39m\u001b[38;5;124m'\u001b[39m]\u001b[38;5;241m.\u001b[39mnotna()]\u001b[38;5;241m.\u001b[39mgroupby([\u001b[38;5;124m'\u001b[39m\u001b[38;5;124m소속\u001b[39m\u001b[38;5;124m'\u001b[39m, sheet1_df[\u001b[38;5;124m'\u001b[39m\u001b[38;5;124m퇴사 날짜\u001b[39m\u001b[38;5;124m'\u001b[39m]\u001b[38;5;241m.\u001b[39mdt\u001b[38;5;241m.\u001b[39mmonth])\u001b[38;5;241m.\u001b[39msize()\n",
      "File \u001b[1;32mC:\\ProgramData\\anaconda3\\Lib\\site-packages\\pandas\\core\\frame.py:3761\u001b[0m, in \u001b[0;36mDataFrame.__getitem__\u001b[1;34m(self, key)\u001b[0m\n\u001b[0;32m   3759\u001b[0m \u001b[38;5;28;01mif\u001b[39;00m \u001b[38;5;28mself\u001b[39m\u001b[38;5;241m.\u001b[39mcolumns\u001b[38;5;241m.\u001b[39mnlevels \u001b[38;5;241m>\u001b[39m \u001b[38;5;241m1\u001b[39m:\n\u001b[0;32m   3760\u001b[0m     \u001b[38;5;28;01mreturn\u001b[39;00m \u001b[38;5;28mself\u001b[39m\u001b[38;5;241m.\u001b[39m_getitem_multilevel(key)\n\u001b[1;32m-> 3761\u001b[0m indexer \u001b[38;5;241m=\u001b[39m \u001b[38;5;28mself\u001b[39m\u001b[38;5;241m.\u001b[39mcolumns\u001b[38;5;241m.\u001b[39mget_loc(key)\n\u001b[0;32m   3762\u001b[0m \u001b[38;5;28;01mif\u001b[39;00m is_integer(indexer):\n\u001b[0;32m   3763\u001b[0m     indexer \u001b[38;5;241m=\u001b[39m [indexer]\n",
      "File \u001b[1;32mC:\\ProgramData\\anaconda3\\Lib\\site-packages\\pandas\\core\\indexes\\base.py:3655\u001b[0m, in \u001b[0;36mIndex.get_loc\u001b[1;34m(self, key)\u001b[0m\n\u001b[0;32m   3653\u001b[0m     \u001b[38;5;28;01mreturn\u001b[39;00m \u001b[38;5;28mself\u001b[39m\u001b[38;5;241m.\u001b[39m_engine\u001b[38;5;241m.\u001b[39mget_loc(casted_key)\n\u001b[0;32m   3654\u001b[0m \u001b[38;5;28;01mexcept\u001b[39;00m \u001b[38;5;167;01mKeyError\u001b[39;00m \u001b[38;5;28;01mas\u001b[39;00m err:\n\u001b[1;32m-> 3655\u001b[0m     \u001b[38;5;28;01mraise\u001b[39;00m \u001b[38;5;167;01mKeyError\u001b[39;00m(key) \u001b[38;5;28;01mfrom\u001b[39;00m \u001b[38;5;21;01merr\u001b[39;00m\n\u001b[0;32m   3656\u001b[0m \u001b[38;5;28;01mexcept\u001b[39;00m \u001b[38;5;167;01mTypeError\u001b[39;00m:\n\u001b[0;32m   3657\u001b[0m     \u001b[38;5;66;03m# If we have a listlike key, _check_indexing_error will raise\u001b[39;00m\n\u001b[0;32m   3658\u001b[0m     \u001b[38;5;66;03m#  InvalidIndexError. Otherwise we fall through and re-raise\u001b[39;00m\n\u001b[0;32m   3659\u001b[0m     \u001b[38;5;66;03m#  the TypeError.\u001b[39;00m\n\u001b[0;32m   3660\u001b[0m     \u001b[38;5;28mself\u001b[39m\u001b[38;5;241m.\u001b[39m_check_indexing_error(key)\n",
      "\u001b[1;31mKeyError\u001b[0m: '퇴사 날짜'"
     ]
    }
   ],
   "source": [
    "# pandas 라이브러리를 pd라는 별칭으로 임포트\n",
    "import pandas as pd\n",
    "\n",
    "# 사용할 엑셀 파일 경로 지정\n",
    "file_path = \"employee.xlsx\"\n",
    "\n",
    "# pandas의 read_excel()함수를 사용: 엑셀 파일을 읽어오기\n",
    "excel_data = pd.read_excel(file_path, sheet_name=None)\n",
    "\n",
    "# 읽어온 엑셀 데이터에서 'Sheet1' 시트를 선택하여 DataFrame 형태로 저장\n",
    "sheet1_df = excel_data['Sheet1']\n",
    "\n",
    "# 퇴사 날짜 열을 datetime 타입으로 변환 (YYYY-MM-DD hh:mm:ss)\n",
    "# : 해당 열에 입력되는 문자열을 날짜로 변환하여 해석\n",
    "# : 해당 열에 데이터를 추가할 때는 문자열로 입력\n",
    "sheet1_df['퇴사 날짜'] = pd.to_datetime(sheet1_df['퇴사 날짜'], errors='coerce')\n",
    "\n",
    "#퇴사 날짜와 소속에 따른 퇴사 인원 집계\n",
    "# '퇴사 날짜'가 존재하는 행만 선택 \n",
    "#  > '소속'과 '퇴사 날짜'의 월별로 그룹화하여 퇴사 인원 계산\n",
    "\n",
    "# notna(): 누락되지 않은 값을 찾아내는 함수\n",
    "leaving_counts = sheet1_df[sheet1_df['퇴사 날짜'].notna()].groupby(['소속', sheet1_df['퇴사 날짜'].dt.month]).size()\n",
    "    \n",
    "# 각 소속의 '고용보험 가입자 현황' 시트 업데이트 & '총계' 계산\n",
    "for sheet_name, df in excel_data.items():\n",
    "    # 시트 이름에 '고용보험 가입자 현황'이 포함되어 있는 경우\n",
    "    if \"고용보험 가입자 현황\" in sheet_name:\n",
    "        employment_insurance_df = df\n",
    "        # 시트 이름에서 소속 부분을 추출\n",
    "        affiliation = sheet_name.split('_고용보험 가입자 현황')[0]\n",
    "        \n",
    "    # 퇴사 인원 업데이트\n",
    "    for month in range(1, 13):\n",
    "        # 해당 소속과 월에 해당하는 퇴사 인원 수를 찾음\n",
    "        count = leaving_counts.get((affiliation, month))\n",
    "        # 퇴사 인원 수가 있으면 해당 월의 퇴사 인원 열에 업데이트\n",
    "        if count is not None:\n",
    "            emp_df.loc[emp_df['Unnamed: 0'] == '퇴사인원', f'{month}월'] = count\n",
    "            \n",
    "        # 변경된 데이터를 excel_data에 다시 저장\n",
    "        excel_data[sheet_name] = emp_df\n",
    "\n",
    "# 변경된 데이터를 파일로 저장\n",
    "with pd.ExcelWriter(file_path, engine='openpyxl', mode='w') as writer:\n",
    "    # 모든 시트를 순회\n",
    "    for sheet_name, df in excel_data.items():\n",
    "        # 각 시트를 파일에 저장, 시트이름은 각 시트이름 그대로\n",
    "        df.to_excel(writer, sheet_name=sheet_name, index=False)"
   ]
  },
  {
   "cell_type": "code",
   "execution_count": 25,
   "id": "8648ef4f",
   "metadata": {},
   "outputs": [],
   "source": [
    "# 엑셀 파일 읽기\n",
    "file_path = \"employee.xlsx\"\n",
    "excel_data = pd.read_excel(file_path, sheet_name=None)\n",
    "sheet1_df = excel_data['Sheet1']\n",
    "\n",
    "# '퇴사 날짜' 열을 datetime 타입으로 변환\n",
    "sheet1_df['퇴사 날짜'] = pd.to_datetime(sheet1_df['퇴사 날짜'], errors='coerce')\n",
    "\n",
    "# 퇴사 날짜와 소속에 따른 퇴사 인원 집계\n",
    "leaving_counts = sheet1_df[sheet1_df['퇴사 날짜'].notna()].groupby(['소속', sheet1_df['퇴사 날짜'].dt.month]).size()\n",
    "\n",
    "# 각 소속의 '고용보험 가입자 현황' 시트 업데이트 및 '총계' 계산\n",
    "for sheet_name, df in excel_data.items():\n",
    "    if \"고용보험 가입자 현황\" in sheet_name:\n",
    "        employment_insurance_df = df\n",
    "        affiliation = sheet_name.split('_')[0]\n",
    "\n",
    "        # 퇴사 인원 업데이트\n",
    "        for month in range(1, 13):\n",
    "            count = leaving_counts.get((affiliation, month))\n",
    "            if count is not None:\n",
    "                employment_insurance_df.loc[employment_insurance_df['Unnamed: 0'] == '퇴사인원', f'{month}월'] = count\n",
    "\n",
    "        excel_data[sheet_name] = employment_insurance_df\n",
    "\n",
    "# 변경된 데이터를 파일로 저장\n",
    "with pd.ExcelWriter(file_path, engine='openpyxl', mode='w') as writer:\n",
    "    for sheet_name, df in excel_data.items():\n",
    "        df.to_excel(writer, sheet_name=sheet_name, index=False)"
   ]
  }
 ],
 "metadata": {
  "kernelspec": {
   "display_name": "Python 3 (ipykernel)",
   "language": "python",
   "name": "python3"
  },
  "language_info": {
   "codemirror_mode": {
    "name": "ipython",
    "version": 3
   },
   "file_extension": ".py",
   "mimetype": "text/x-python",
   "name": "python",
   "nbconvert_exporter": "python",
   "pygments_lexer": "ipython3",
   "version": "3.11.5"
  }
 },
 "nbformat": 4,
 "nbformat_minor": 5
}
