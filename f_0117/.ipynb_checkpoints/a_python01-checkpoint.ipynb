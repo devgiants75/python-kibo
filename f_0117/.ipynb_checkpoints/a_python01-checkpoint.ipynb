{
 "cells": [
  {
   "cell_type": "markdown",
   "id": "f06dc0ff",
   "metadata": {},
   "source": [
    "# 엑셀 파일 업데이트\n",
    "\n",
    "### 퇴사 날짜를 지정하는 컬럼 설정"
   ]
  },
  {
   "cell_type": "code",
   "execution_count": 5,
   "id": "8e97e4aa",
   "metadata": {},
   "outputs": [],
   "source": [
    "# pandas 라이브러리를 pd라는 별칭으로 임포트\n",
    "import pandas as pd\n",
    "\n",
    "# 사용할 엑셀 파일 경로 지정\n",
    "file_path = \"employee.xlsx\"\n",
    "\n",
    "# pandas의 read_excel()함수를 사용: 엑셀 파일을 읽어오기\n",
    "excel_data = pd.read_excel(file_path, sheet_name=None)\n",
    "\n",
    "# 읽어온 엑셀 데이터에서 'Sheet1' 시트를 선택하여 DataFrame 형태로 저장\n",
    "sheet1_df = excel_data['Sheet1']\n",
    "\n",
    "# 데이터프레임 형태의 sheet1_df에 '퇴사 날짜'라는 새로운 열을 추가\n",
    "# : 초기값은 비워둠\n",
    "# : Not a Time: 시간 데이터가 없음을 의미\n",
    "sheet1_df['퇴사 날짜'] = pd.NaT\n",
    "\n",
    "# 변경된 Sheet1 데이터를 다시 excel_data에 저장\n",
    "# : 원래의 Sheet1 데이터가 업데이트\n",
    "excel_data['Sheet1'] = sheet1_df\n",
    "\n",
    "# 변경된 데이터를 파일로 저장\n",
    "with pd.ExcelWriter(file_path, engine='openpyxl', mode='w') as writer:\n",
    "    # 모든 시트를 순회\n",
    "    for sheet_name, df in excel_data.items():\n",
    "        # 각 시트를 파일에 저장, 시트이름은 각 시트이름 그대로\n",
    "        df.to_excel(writer, sheet_name=sheet_name, index=False)"
   ]
  },
  {
   "cell_type": "markdown",
   "id": "70b56936",
   "metadata": {},
   "source": [
    "### 생성된 퇴사 날짜 열에 데이터(퇴사 날짜)를 추가하는 경우\n",
    "### : 추가된 해당 행의 소속을 파악하여 그 소속의 고용보험 가입자 현황 시트로 \n",
    "### : 퇴사 날짜의 열에 값이 추가되도록 설정"
   ]
  },
  {
   "cell_type": "code",
   "execution_count": 16,
   "id": "cb1868e6",
   "metadata": {},
   "outputs": [
    {
     "ename": "IndentationError",
     "evalue": "unexpected indent (3882755213.py, line 38)",
     "output_type": "error",
     "traceback": [
      "\u001b[1;36m  Cell \u001b[1;32mIn[16], line 38\u001b[1;36m\u001b[0m\n\u001b[1;33m    if count is not None:\u001b[0m\n\u001b[1;37m    ^\u001b[0m\n\u001b[1;31mIndentationError\u001b[0m\u001b[1;31m:\u001b[0m unexpected indent\n"
     ]
    }
   ],
   "source": [
    "# pandas 라이브러리를 pd라는 별칭으로 임포트\n",
    "import pandas as pd\n",
    "\n",
    "# 사용할 엑셀 파일 경로 지정\n",
    "file_path = \"employee.xlsx\"\n",
    "\n",
    "# pandas의 read_excel()함수를 사용: 엑셀 파일을 읽어오기\n",
    "excel_data = pd.read_excel(file_path, sheet_name=None)\n",
    "\n",
    "# 읽어온 엑셀 데이터에서 'Sheet1' 시트를 선택하여 DataFrame 형태로 저장\n",
    "sheet1_df = excel_data['Sheet1']\n",
    "\n",
    "# 퇴사 날짜 열을 datetime 타입으로 변환 (YYYY-MM-DD hh:mm:ss)\n",
    "# : 해당 열에 입력되는 문자열을 날짜로 변환하여 해석\n",
    "# : 해당 열에 데이터를 추가할 때는 문자열로 입력\n",
    "sheet1_df['퇴사 날짜'] = pd.to_datetime(sheet1_df['퇴사 날짜'], errors='coerce')\n",
    "\n",
    "#퇴사 날짜와 소속에 따른 퇴사 인원 집계\n",
    "# '퇴사 날짜'가 존재하는 행만 선택 \n",
    "#  > '소속'과 '퇴사 날짜'의 월별로 그룹화하여 퇴사 인원 계산\n",
    "\n",
    "# notna(): 누락되지 않은 값을 찾아내는 함수\n",
    "leaving_counts = sheet1_df[sheet1_df['퇴사 날짜'].notna()].groupby(['소속', sheet1_df['퇴사 날짜'].dt.month]).size()\n",
    "    \n",
    "# 각 소속의 '고용보험 가입자 현황' 시트 업데이트 & '총계' 계산\n",
    "for sheet_name, df in excel_data.items():\n",
    "    # 시트 이름에 '고용보험 가입자 현황'이 포함되어 있는 경우\n",
    "    if \"고용보험 가입자 현황\" in sheet_name:\n",
    "        employment_insurance_df = df\n",
    "        # 시트 이름에서 소속 부분을 추출\n",
    "        affiliation = sheet_name.split('_고용보험 가입자 현황')[0]\n",
    "        \n",
    "    # 퇴사 인원 업데이트\n",
    "    for month in range(1, 13):\n",
    "        # 해당 소속과 월에 해당하는 퇴사 인원 수를 찾음\n",
    "        count = leaving_counts.get((affiliation, month))\n",
    "        # 퇴사 인원 수가 있으면 해당 월의 퇴사 인원 열에 업데이트\n",
    "        if count is not None:\n",
    "                employment_insurance_df.loc[employment_insurance_df['Unnamed: 0'] == '퇴사인원', f'{month}월'] = count\n",
    "            \n",
    "        # 변경된 데이터를 excel_data에 다시 저장\n",
    "        excel_data[sheet_name] = employment_insurance_df\n",
    "\n",
    "# 변경된 데이터를 파일로 저장\n",
    "with pd.ExcelWriter(file_path, engine='openpyxl', mode='w') as writer:\n",
    "    # 모든 시트를 순회\n",
    "    for sheet_name, df in excel_data.items():\n",
    "        # 각 시트를 파일에 저장, 시트이름은 각 시트이름 그대로\n",
    "        df.to_excel(writer, sheet_name=sheet_name, index=False)"
   ]
  },
  {
   "cell_type": "code",
   "execution_count": null,
   "id": "22e4eb16",
   "metadata": {},
   "outputs": [],
   "source": []
  }
 ],
 "metadata": {
  "kernelspec": {
   "display_name": "Python 3 (ipykernel)",
   "language": "python",
   "name": "python3"
  },
  "language_info": {
   "codemirror_mode": {
    "name": "ipython",
    "version": 3
   },
   "file_extension": ".py",
   "mimetype": "text/x-python",
   "name": "python",
   "nbconvert_exporter": "python",
   "pygments_lexer": "ipython3",
   "version": "3.11.5"
  }
 },
 "nbformat": 4,
 "nbformat_minor": 5
}
