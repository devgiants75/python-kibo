{
 "cells": [
  {
   "cell_type": "markdown",
   "id": "1242916f",
   "metadata": {},
   "source": [
    "# 파이썬 컬렉션 자료형 - 튜플\n",
    "\n",
    "### 튜플의 정의\n",
    ": 변경 불가능(immutable)한 자료형, 순서가 있는 컬렉션\n",
    ": 요소의 구분은 리스트와 동일하게 ,(콤마)로 구분\n",
    "\n",
    "### 튜플 생성 방법\n",
    "빈 튜플: my_tuple = ()\n",
    "요소가 있는 튜플: my_tuple = (1, 2, 3)\n",
    "괄호 없이 튜플 생성: my_tuple = 1, 2, 3\n",
    "단일 요소 튜플: single_tuple = (500,) / single_tuple = 500,\n",
    "- 단일 요소 배열 single_list = [500]"
   ]
  },
  {
   "cell_type": "code",
   "execution_count": 3,
   "id": "0405903b",
   "metadata": {},
   "outputs": [
    {
     "name": "stdout",
     "output_type": "stream",
     "text": [
      "() (1, 2, 3) (1, 2, 3) 500\n"
     ]
    }
   ],
   "source": [
    "my_tuple1 = ()\n",
    "my_tuple2 = (1, 2, 3)\n",
    "my_tuple3 = 1, 2, 3\n",
    "my_tuple4 = (500,)\n",
    "print(my_tuple1, my_tuple2, my_tuple3, my_tuple4)"
   ]
  },
  {
   "cell_type": "code",
   "execution_count": 5,
   "id": "0ee3756f",
   "metadata": {},
   "outputs": [
    {
     "name": "stdout",
     "output_type": "stream",
     "text": [
      "(1, 2, 3, 1, 2, 3)\n",
      "(1, 2, 3, 1, 2, 3, 1, 2, 3)\n"
     ]
    }
   ],
   "source": [
    "### 연산 작업의 경우 리스트와 동일하게 사용 가능\n",
    "print(my_tuple2 + my_tuple3)\n",
    "print(my_tuple2 * 3)"
   ]
  },
  {
   "cell_type": "markdown",
   "id": "9b65cb63",
   "metadata": {},
   "source": [
    "튜플의 경우 리스트와 달리 변경이 불가능하기 때문에\n",
    ": 튜플은 리스트가 가진 내장 함수 X\n",
    "\n",
    "리스트 VS 튜플\n",
    "리스트: 변경 가능 / 메모리 공간을 크게 차지 / 처리 속도가 느림\n",
    "튜플: 변경 불가능 / 리스트보다 더 작은 메모리를 차지 / 처리 속도는 리스트보다 빠름\n",
    "list = [1, 2, 3]\n",
    "tuple = (1, 2, 3)\n",
    "\n",
    "리스트: 데이터의 순서가 중요하고 변경이 필요한 경우에 사용\n",
    "튜플: 데이터가 변경되지 않기를 원하는 경우에 사용, 함수에서 여러 값을 반환할 때"
   ]
  }
 ],
 "metadata": {
  "kernelspec": {
   "display_name": "Python 3 (ipykernel)",
   "language": "python",
   "name": "python3"
  },
  "language_info": {
   "codemirror_mode": {
    "name": "ipython",
    "version": 3
   },
   "file_extension": ".py",
   "mimetype": "text/x-python",
   "name": "python",
   "nbconvert_exporter": "python",
   "pygments_lexer": "ipython3",
   "version": "3.11.5"
  }
 },
 "nbformat": 4,
 "nbformat_minor": 5
}
