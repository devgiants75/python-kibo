{
 "cells": [
  {
   "cell_type": "markdown",
   "id": "2e1c83e3",
   "metadata": {},
   "source": [
    "# b_collection\n",
    "\n",
    "collection 자료형의 정의\n",
    ": '모음', 여러 값을 하나의 이름으로 묶어서 관리하는 자료형\n",
    "\n",
    "collection 자료형의 종류\n",
    ": 리스트, 튜플, 딕셔너리, 세트"
   ]
  },
  {
   "cell_type": "markdown",
   "id": "dff75d9b",
   "metadata": {},
   "source": [
    "## List(리스트) 자료형\n",
    "\n",
    "### 정의\n",
    ": 순서가 있는 컬렉션, 다양한 데이터 타입의 요소를 저장할 수 있음\n",
    ": 값의 중복을 허용하는 자료형\n",
    "\n",
    "### 리스트 생성 방법 \n",
    ": 리스트의 경우 대괄호[]를 사용하여 생성\n",
    ": 대괄호 안의 각각의 데이터(요소)는 ,(콤마)로 구분하여 작성\n",
    "\n",
    "빈 리스트: my_list = [] \n",
    "숫자가 담긴 리스트 생성: number_list = [34, 52, 77, 31]\n",
    "문자열이 있는 리스트 생성: str_list = [\"apple\", \"banana\", \"cherry\"] \n",
    "\n",
    ": 리스트 요소값의 순서는 0부터 시작(index 번호)\n",
    ": 요소값을 찾고 싶은 경우에는 변수명[인덱스번호]로 찾음\n",
    "str_list[0] == apple (True)\n",
    "\n",
    "### 리스트 변경과 삭제\n",
    "데이터 수정\n",
    "변수명[인덱스번호] = 변경할 값\n",
    "\n",
    "데이터 삭제\n",
    "del 변수명[인덱스번호]"
   ]
  },
  {
   "cell_type": "code",
   "execution_count": 6,
   "id": "812424b9",
   "metadata": {},
   "outputs": [
    {
     "name": "stdout",
     "output_type": "stream",
     "text": [
      "banana\n",
      "cherry\n",
      "['mango', 'banana', 'cherry']\n",
      "['mango', 'cherry']\n"
     ]
    }
   ],
   "source": [
    "str_list = [\"apple\", \"banana\", \"cherry\"]\n",
    "\n",
    "# str_list에서 banana 추출\n",
    "print(str_list[1])\n",
    "print(str_list[2])\n",
    "\n",
    "# str_list에서 apple을 mango로 변경\n",
    "str_list[0] = \"mango\"\n",
    "print(str_list)\n",
    "\n",
    "# str_list에서 banana의 값을 삭제\n",
    "del str_list[1]\n",
    "print(str_list)"
   ]
  },
  {
   "cell_type": "code",
   "execution_count": 15,
   "id": "7145af02",
   "metadata": {},
   "outputs": [
    {
     "name": "stdout",
     "output_type": "stream",
     "text": [
      "[1, 2, 3, 4]\n",
      "[1, 2, 3, 4, 5, 6]\n",
      "[1, 2, 6, 3, 4, 5, 6]\n",
      "[1, 2, 3, 4, 5, 6]\n",
      "4\n"
     ]
    }
   ],
   "source": [
    "### 리스트의 내장 함수\n",
    "\n",
    "my_list = [1, 2, 3]\n",
    "\n",
    "# 1. append(x): 리스트의 끝에 항목 x를 추가\n",
    "# 내장 함수 사용 시 변수명.내장함수로 사용 (마침표의 경우 연결을 나타내는 기호)\n",
    "my_list.append(4)\n",
    "print(my_list)\n",
    "\n",
    "# 2. extend(추가자료): 리스트 끝에 모든 항목을 추가\n",
    "my_list.extend([5, 6])\n",
    "print(my_list)\n",
    "\n",
    "# 3. insert(i, x): 주어진 위치 i에 항목 x를 추가\n",
    "my_list.insert(2, 6)\n",
    "print(my_list)\n",
    "\n",
    "# 4. remove(x): 리스트에서 첫 번째로 나타나는 x를 삭제\n",
    "my_list.remove(6)\n",
    "print(my_list)\n",
    "\n",
    "# 5. pop(i): 주어진 위치 i에 있는 항목을 리스트에서 삭제하고 '반환'\n",
    "number_four = my_list.pop(3)\n",
    "print(number_four)"
   ]
  },
  {
   "cell_type": "code",
   "execution_count": 17,
   "id": "3411840c",
   "metadata": {},
   "outputs": [
    {
     "name": "stdout",
     "output_type": "stream",
     "text": [
      "33\n",
      "11\n",
      "[22, 33, 44]\n"
     ]
    }
   ],
   "source": [
    "list_sample = [11, 22, 33, 44, 55]\n",
    "\n",
    "### 리스트의 슬라이싱 및 인덱싱\n",
    "\n",
    "#인덱싱: 원하는 위치의 요소를 가져옴.\n",
    "print(list_sample[2])\n",
    "print(list_sample[0])\n",
    "\n",
    "#슬라이싱: 원하는 위치의 요소들을 가져옴.\n",
    "# 배열명[a:b]: a부터 b 앞의 요소까지 (b는 포함 X)\n",
    " \n",
    "print(list_sample[1: 4]) # [22, 33, 44]"
   ]
  },
  {
   "cell_type": "code",
   "execution_count": 21,
   "id": "4710ffd2",
   "metadata": {},
   "outputs": [
    {
     "name": "stdout",
     "output_type": "stream",
     "text": [
      "[1, 2, 3, 4, 7, 9]\n",
      "[9, 7, 4, 3, 2, 1]\n"
     ]
    }
   ],
   "source": [
    "### 리스트 정렬\n",
    "# 리스트 정렬 내장 함수의 경우\n",
    "# : 주어진 리스트를 정렬하고 None(아무것도 없음을 반환)\n",
    "# : 주어진 리스트 그 자체를 출력\n",
    "# : 함수 구현부를 print()안에 작성 X\n",
    "\n",
    "mix_list = [7, 2, 4, 1, 9, 3]\n",
    "\n",
    "# 오름차순 sort\n",
    "# 배열명.sort()\n",
    "\n",
    "mix_list.sort()\n",
    "print(mix_list)\n",
    "\n",
    "# 내림차순 reverse\n",
    "mix_list.reverse()\n",
    "print(mix_list)"
   ]
  },
  {
   "cell_type": "code",
   "execution_count": null,
   "id": "c52a6e80",
   "metadata": {},
   "outputs": [],
   "source": []
  }
 ],
 "metadata": {
  "kernelspec": {
   "display_name": "Python 3 (ipykernel)",
   "language": "python",
   "name": "python3"
  },
  "language_info": {
   "codemirror_mode": {
    "name": "ipython",
    "version": 3
   },
   "file_extension": ".py",
   "mimetype": "text/x-python",
   "name": "python",
   "nbconvert_exporter": "python",
   "pygments_lexer": "ipython3",
   "version": "3.11.5"
  }
 },
 "nbformat": 4,
 "nbformat_minor": 5
}
