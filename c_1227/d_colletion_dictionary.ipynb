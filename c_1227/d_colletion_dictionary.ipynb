{
 "cells": [
  {
   "cell_type": "markdown",
   "id": "c37c7d73",
   "metadata": {},
   "source": [
    "# 파이썬 컬렉션 자료형 - 딕셔너리\n",
    "\n",
    "### 딕셔너리 정의\n",
    "키-값의 쌍으로 이루어진 자료형, 변경이 가능한 컬렉션, 순서가 보장되지 X\n",
    "딕셔너리는 효율적인 데이터 검색과 관리를 하는 자료형\n",
    ": 키를 통한 빠른 데이터 접근과 값(데이터)에 대한 설명이 필요한 경우\n",
    "\n",
    "### 딕셔너리 생성 방법\n",
    "빈 딕셔너리: my_dict = {}\n",
    "요소가 있는 딕셔너리 생성: my_dict = {키1: 값1, 키2: 값2, 키3: 값3 ...}\n",
    "- 키는 문자열로 사용: 고유한 특성을 지님 (키끼리 중복 X)\n",
    "- 값은 다양한 자료형 사용 : 중복 가능 \n",
    "person = {'name': '이승아', 'age': 30, 'city': 'busan'}\n",
    "\n",
    "dict() 생성자를 통한 딕셔너리 생성\n",
    ": 키를 문자열로 사용하지 X\n",
    ": 키와 값의 형태를 키=\"값\" \n",
    "another_person = dict(name='이승아', age=30, city='busan')"
   ]
  },
  {
   "cell_type": "code",
   "execution_count": 1,
   "id": "dd649b07",
   "metadata": {},
   "outputs": [
    {
     "name": "stdout",
     "output_type": "stream",
     "text": [
      "{'name': '이승아', 'age': 30, 'city': 'busan'}\n",
      "{'name': '이승아', 'age': 30, 'city': 'busan'}\n"
     ]
    }
   ],
   "source": [
    "person = {'name': '이승아', 'age': 30, 'city': 'busan'}\n",
    "another_person = dict(name='이승아', age=30, city='busan')\n",
    "print(person)\n",
    "print(another_person)"
   ]
  },
  {
   "cell_type": "code",
   "execution_count": 6,
   "id": "3554cf02",
   "metadata": {},
   "outputs": [
    {
     "name": "stdout",
     "output_type": "stream",
     "text": [
      "어린왕자\n",
      "생텍쥐페리\n",
      "{'title': '어린왕자', 'author': '생텍쥐페리', 'count': 18000}\n",
      "{'title': '어린왕자', 'count': 18000}\n"
     ]
    }
   ],
   "source": [
    "book = {'title': '어린왕자', 'author': '생텍쥐페리'}\n",
    "# 키를 통한 값에 접근\n",
    "# 변수명[key]\n",
    "print(book['title'])\n",
    "print(book['author'])\n",
    "\n",
    "# 키-값 쌍 추가\n",
    "# 변수명[key] = value\n",
    "book['count'] = 18000\n",
    "print(book)\n",
    "\n",
    "# 키 삭제 (키와 값이 쌍으로 삭제)\n",
    "# del 변수명[key]\n",
    "del book['author']\n",
    "print(book)"
   ]
  },
  {
   "cell_type": "code",
   "execution_count": 14,
   "id": "5be0b431",
   "metadata": {},
   "outputs": [
    {
     "name": "stdout",
     "output_type": "stream",
     "text": [
      "lsa\n",
      "None\n",
      "{'name': 'lsa', 'age': 28, 'city': 'busan'}\n",
      "28\n",
      "{'name': 'lsa', 'city': 'busan'}\n",
      "dict_keys(['name', 'city'])\n",
      "dict_values(['lsa', 'busan'])\n",
      "dict_items([('name', 'lsa'), ('city', 'busan')])\n",
      "{}\n"
     ]
    }
   ],
   "source": [
    "### 딕셔너리의 내장함수\n",
    "person = {'name': 'lsa', 'age': 27}\n",
    "\n",
    "# get(key): 해당 키로 값을 검색 (해당 키가 없는 경우 None을 반환)\n",
    "print(person.get('name'))\n",
    "print(person.get('height'))\n",
    "\n",
    "# update(other): 다른 딕셔너리의 키-값 쌍을 현재 딕셔너리에 추가\n",
    "# 이미 존재하는 키의 경우 값을 수정\n",
    "# 새로운 키의 경우 값을 추가\n",
    "person.update({'age': 28, 'city': 'busan'})\n",
    "print(person)\n",
    "\n",
    "# pop(key): 주어진 키와 연관된 값을 제거하고 반환\n",
    "removed_age = person.pop('age')\n",
    "print(removed_age)\n",
    "print(person)\n",
    "\n",
    "# keys(), values(), items(): 딕셔너리의 키, 값, 키-값 쌍을 순회하는데 사용\n",
    "# : 해당 데이터의 세부 내역을 검색하는 내장 함수\n",
    "print(person.keys())\n",
    "print(person.values())\n",
    "print(person.items())\n",
    "\n",
    "# clear(): 딕셔너리 전체 안의 내용을 전부 삭제\n",
    "# 변수 자체가 삭제 X, 그 안의 내용 만을 삭제\n",
    "person.clear()\n",
    "print(person)"
   ]
  },
  {
   "cell_type": "markdown",
   "id": "27cbe460",
   "metadata": {},
   "source": [
    "딕셔너리\n",
    "- 키를 통한 데이터의 접근이 필요한 경우(속도가 리스트 보다 빠름)\n",
    "- 데이터에 대한 설명이 필요한 경우"
   ]
  }
 ],
 "metadata": {
  "kernelspec": {
   "display_name": "Python 3 (ipykernel)",
   "language": "python",
   "name": "python3"
  },
  "language_info": {
   "codemirror_mode": {
    "name": "ipython",
    "version": 3
   },
   "file_extension": ".py",
   "mimetype": "text/x-python",
   "name": "python",
   "nbconvert_exporter": "python",
   "pygments_lexer": "ipython3",
   "version": "3.11.5"
  }
 },
 "nbformat": 4,
 "nbformat_minor": 5
}
