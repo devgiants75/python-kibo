{
 "cells": [
  {
   "cell_type": "markdown",
   "id": "bfc5cefe",
   "metadata": {},
   "source": [
    "# 파이썬 컬렉션 자료형 - 세트(set)\n",
    "\n",
    "### 세트의 정의\n",
    "중복을 허용하지 X, 순서가 없는 데이터의 컬렉션\n",
    ": 주로 데이터의 존재 여부를 빠르게 확인, 중복을 제거할 때 사용\n",
    "\n",
    "### 세트의 생성 방법\n",
    "빈 세트: my_set = set()\n",
    "요소가 있는 세트: my_set = {1, 2, 3} \n",
    "- 딕셔너리: my_dict = {키: 값, 키: 값}\n",
    "리스트나 튜플에서 세트 생성: my_set = set([1, 2, 3, 3, 2])"
   ]
  },
  {
   "cell_type": "code",
   "execution_count": 1,
   "id": "16b1eb97",
   "metadata": {},
   "outputs": [
    {
     "name": "stdout",
     "output_type": "stream",
     "text": [
      "{1, 2, 3}\n"
     ]
    }
   ],
   "source": [
    "# 리스트 생성 예제\n",
    "my_set = set([1, 2, 3, 3, 2]) # 리스트의 중복을 제거하여 세트로 생성\n",
    "print(my_set)"
   ]
  },
  {
   "cell_type": "markdown",
   "id": "45bfddd5",
   "metadata": {},
   "source": [
    "### 세트의 연산\n",
    "중복을 허용하지 않기 때문에 벤다이어그램으로 표현되는 연산에 주로 쓰임\n",
    "\n",
    "1. 합집합\n",
    ": 변수명1.union(변수명2): 변수명1에 변수명2를 더해서 표현\n",
    ": set1 | set2\n",
    ": set1.union(set2)\n",
    "[1, 2, 3] / [3, 4, 5] -> [1, 2, 3, 4, 5]\n",
    "\n",
    "2. 교집합\n",
    ": 변수명1.intersection(변수명2): 변수명1에 변수명2에서 중첩되는 데이터만 표현\n",
    ": set1 & set2\n",
    ": set1.intersection(set2)\n",
    "[1, 2, 3] / [3, 4, 5] -> [3]\n",
    "\n",
    "3. 차집합\n",
    ": 변수명1.difference(변수명2): 변수명1에 변수명2와 중첩되는 데이터를 뺀 데이터만 표현\n",
    ": set1 - set2\n",
    ": set1.difference(set2)\n",
    "[1, 2, 3] / [3, 4, 5] -> [1, 2]"
   ]
  },
  {
   "cell_type": "code",
   "execution_count": 4,
   "id": "38fcd80d",
   "metadata": {},
   "outputs": [
    {
     "name": "stdout",
     "output_type": "stream",
     "text": [
      "{1, 2, 3, 4, 5}\n",
      "{3}\n",
      "{1, 2}\n"
     ]
    }
   ],
   "source": [
    "set1 = {1, 2, 3}\n",
    "set2 = {3, 4, 5}\n",
    "\n",
    "# 합집합\n",
    "print(set1.union(set2))\n",
    "\n",
    "# 교집합\n",
    "print(set1 & set2)\n",
    "\n",
    "# 차집합\n",
    "print(set1.difference(set2))"
   ]
  }
 ],
 "metadata": {
  "kernelspec": {
   "display_name": "Python 3 (ipykernel)",
   "language": "python",
   "name": "python3"
  },
  "language_info": {
   "codemirror_mode": {
    "name": "ipython",
    "version": 3
   },
   "file_extension": ".py",
   "mimetype": "text/x-python",
   "name": "python",
   "nbconvert_exporter": "python",
   "pygments_lexer": "ipython3",
   "version": "3.11.5"
  }
 },
 "nbformat": 4,
 "nbformat_minor": 5
}
