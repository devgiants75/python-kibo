{
 "cells": [
  {
   "cell_type": "markdown",
   "id": "b862b015",
   "metadata": {},
   "source": [
    "# a_condition(조건문)\n",
    "\n",
    "제어문\n",
    ": 어떤 조건에 따라 특정 코드만 수행하거나 반복하도록 제어\n",
    "\n",
    "파이썬의 제어문\n",
    ": 조건문 / 반복문\n",
    "\n",
    "## 조건문\n",
    ": if문, elif문, else문\n"
   ]
  },
  {
   "cell_type": "markdown",
   "id": "d55eeeed",
   "metadata": {},
   "source": [
    "# if문\n",
    ": 조건에 따른 코드 실행\n",
    "\n",
    "기본 구조\n",
    "if 조건1:\n",
    "    조건 1이 참일 때 실행 \n",
    "elif 조건2:\n",
    "    조건 1이 거짓이고 조건 2가 참일 때 실행\n",
    "else:\n",
    "    조건 1, 2이 모두 거짓일 때 실행"
   ]
  },
  {
   "cell_type": "code",
   "execution_count": 3,
   "id": "4867ac4e",
   "metadata": {},
   "outputs": [
    {
     "name": "stdout",
     "output_type": "stream",
     "text": [
      "청소년\n"
     ]
    }
   ],
   "source": [
    "age = 16\n",
    "\n",
    "# if 조건문의 실행 순서\n",
    "# : 나이(age)가 13 이하 인 경우 어린이\n",
    "# : 나이가 19 이하인 경우 청소년\n",
    "# : 나이가 20 이상인 경우 성인\n",
    "\n",
    "if age <= 13:\n",
    "    print('어린이')\n",
    "elif age <= 19: # 13 초과와 19 이하인 수\n",
    "    print('청소년')\n",
    "else: # 조건식 X (else문은 앞선 조건식이 모두 거짓일 때 자동 실행)\n",
    "    print('성인')\n",
    "    "
   ]
  },
  {
   "cell_type": "markdown",
   "id": "f0704f3d",
   "metadata": {},
   "source": [
    "# 연산자\n",
    "\n",
    "비교 연산자\n",
    ": 두 값을 비교하는 용도\n",
    ": ==(같음), !=(같지 않음), >, <, >=, <=\n",
    "\n",
    "논리 연산자\n",
    ": and - 두 조건이 모두 참일 참\n",
    ": or - 두 조건 중 하나라도 참일 때 참\n",
    ": not - 조건의 반대"
   ]
  },
  {
   "cell_type": "code",
   "execution_count": 4,
   "id": "2070f747",
   "metadata": {},
   "outputs": [
    {
     "name": "stdout",
     "output_type": "stream",
     "text": [
      "False\n",
      "True\n",
      "True\n",
      "False\n"
     ]
    }
   ],
   "source": [
    "# bool자료형(True, False)의 연산\n",
    "a = True\n",
    "b = False\n",
    "c = True\n",
    "\n",
    "print(a and b) # False\n",
    "print(a and c) # True\n",
    "print(a or b or C) # True\n",
    "print(not c) # False"
   ]
  }
 ],
 "metadata": {
  "kernelspec": {
   "display_name": "Python 3 (ipykernel)",
   "language": "python",
   "name": "python3"
  },
  "language_info": {
   "codemirror_mode": {
    "name": "ipython",
    "version": 3
   },
   "file_extension": ".py",
   "mimetype": "text/x-python",
   "name": "python",
   "nbconvert_exporter": "python",
   "pygments_lexer": "ipython3",
   "version": "3.11.5"
  }
 },
 "nbformat": 4,
 "nbformat_minor": 5
}
