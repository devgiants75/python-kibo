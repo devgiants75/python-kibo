{
 "cells": [
  {
   "cell_type": "markdown",
   "id": "258ee804",
   "metadata": {},
   "source": [
    "# 파이썬 기본 문법\n",
    "\n",
    "1. 세미콜론(;)\n",
    ": 파이썬은 세미콜론을 붙이지 X (생략 가능)\n",
    ": 한 줄에 여러 개의 코드를 작성할 때는 세미콜론으로 구분"
   ]
  },
  {
   "cell_type": "code",
   "execution_count": 2,
   "id": "9b4252c9",
   "metadata": {
    "scrolled": true
   },
   "outputs": [
    {
     "name": "stdout",
     "output_type": "stream",
     "text": [
      "Hello\n",
      "Python\n"
     ]
    }
   ],
   "source": [
    "print('Hello'); print('Python')"
   ]
  },
  {
   "cell_type": "markdown",
   "id": "3fc07d92",
   "metadata": {},
   "source": [
    "2. 주석\n",
    ": 비활성 상태에서 영문자 m 클릭 시 주석상태(마크다운 창)으로 변경\n",
    ": 파이썬 실행기가 읽지 않음.\n",
    ": 코드에 대한 설명 첨부를 할 때 사용"
   ]
  },
  {
   "cell_type": "markdown",
   "id": "1c13484e",
   "metadata": {},
   "source": [
    "3. 들여쓰기\n",
    ": 코드를 읽기 쉽도록 일정한 간격을 띄워서 작성하는 방법\n",
    ": 들여쓰기를 사용해야 하는 상황이 아닐 때 사용하면 오류!\n",
    ": tab 또는 space키를 사용하여 들여쓰기"
   ]
  },
  {
   "cell_type": "code",
   "execution_count": 17,
   "id": "648860b3",
   "metadata": {
    "scrolled": false
   },
   "outputs": [],
   "source": [
    "a = 10\n",
    "#    print(a)\n",
    "# 띄어쓰기를 사용하여 코드블록 내에서도 주석 사용 가능"
   ]
  },
  {
   "cell_type": "code",
   "execution_count": 18,
   "id": "bd2285e1",
   "metadata": {
    "scrolled": true
   },
   "outputs": [
    {
     "name": "stdout",
     "output_type": "stream",
     "text": [
      "a는 10입니다.\n"
     ]
    }
   ],
   "source": [
    "if a == 10:\n",
    "    print('a는 10입니다.')"
   ]
  },
  {
   "cell_type": "markdown",
   "id": "e0601e07",
   "metadata": {},
   "source": [
    "- 같은 블록은 들여쓰기 칸 수가 같아야 하고, 공백과 탭 문자를 섞어 쓰지 말고\n",
    "- 하나로 통일하여 쓰는 것을 권장\n",
    "- tab 키보드 한 번 클릭"
   ]
  }
 ],
 "metadata": {
  "kernelspec": {
   "display_name": "Python 3 (ipykernel)",
   "language": "python",
   "name": "python3"
  },
  "language_info": {
   "codemirror_mode": {
    "name": "ipython",
    "version": 3
   },
   "file_extension": ".py",
   "mimetype": "text/x-python",
   "name": "python",
   "nbconvert_exporter": "python",
   "pygments_lexer": "ipython3",
   "version": "3.11.5"
  }
 },
 "nbformat": 4,
 "nbformat_minor": 5
}
