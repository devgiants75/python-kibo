{
 "cells": [
  {
   "cell_type": "markdown",
   "id": "fcbbb411",
   "metadata": {},
   "source": [
    "비활성 상태(파란색)의 단축키"
   ]
  },
  {
   "cell_type": "markdown",
   "id": "435f9147",
   "metadata": {},
   "source": [
    "B: 아래로 블록이 추가 / A: 위로 블록이 추가"
   ]
  },
  {
   "cell_type": "markdown",
   "id": "79bbd1ff",
   "metadata": {},
   "source": [
    "D: 연속으로 2번 누르면 블록이 삭제"
   ]
  },
  {
   "cell_type": "markdown",
   "id": "29d5a17f",
   "metadata": {},
   "source": [
    "M: 마크다운 창(텍스트를 꾸밀 수 있는 공간, 컴퓨터가 코드를 읽을 때 제외 - 주석)"
   ]
  },
  {
   "cell_type": "markdown",
   "id": "53e2d851",
   "metadata": {},
   "source": [
    "## Y: 마크다운 창에서 다시 코드 창으로 변환\n",
    "#(샾)의 개수에 따라 텍스트의 크기가 커지거나, 작아짐(많을 수록 작아짐, 샾 기호와 텍스트 사이에 띄어쓰기가 필수)"
   ]
  },
  {
   "cell_type": "code",
   "execution_count": 2,
   "id": "906c21b7",
   "metadata": {},
   "outputs": [
    {
     "name": "stdout",
     "output_type": "stream",
     "text": [
      "Hello Python!\n"
     ]
    }
   ],
   "source": [
    "print('Hello Python!')"
   ]
  },
  {
   "cell_type": "markdown",
   "id": "07a0b56d",
   "metadata": {},
   "source": [
    "실행: shift + enter / 메뉴바의 Run 버튼 클릭"
   ]
  }
 ],
 "metadata": {
  "kernelspec": {
   "display_name": "Python 3 (ipykernel)",
   "language": "python",
   "name": "python3"
  },
  "language_info": {
   "codemirror_mode": {
    "name": "ipython",
    "version": 3
   },
   "file_extension": ".py",
   "mimetype": "text/x-python",
   "name": "python",
   "nbconvert_exporter": "python",
   "pygments_lexer": "ipython3",
   "version": "3.11.5"
  }
 },
 "nbformat": 4,
 "nbformat_minor": 5
}
