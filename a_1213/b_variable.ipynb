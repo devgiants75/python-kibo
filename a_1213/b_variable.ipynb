{
 "cells": [
  {
   "cell_type": "markdown",
   "id": "6ef76f74",
   "metadata": {},
   "source": [
    "# 변수(Variable)\n",
    "\n",
    "1. 변수란?\n",
    "   : 어떤 데이터(자료)를 저장하고자 할 때 사용하는 메모리 저장소\n",
    "   : 데이터를 담아두는 그릇\n",
    "\n",
    "2. 변수의 선언\n",
    "   변수명 = 데이터\n",
    "   등호가 1개(=): '오른쪽에 있는 것을 왼쪽에 넣는다'\n",
    "   등호가 2개(==): '오른쪽과 왼쪽이 같다'"
   ]
  },
  {
   "cell_type": "code",
   "execution_count": 6,
   "id": "05fa26d4",
   "metadata": {},
   "outputs": [],
   "source": [
    "sum = 1 + 2"
   ]
  },
  {
   "cell_type": "code",
   "execution_count": 5,
   "id": "dab23257",
   "metadata": {
    "scrolled": true
   },
   "outputs": [
    {
     "name": "stdout",
     "output_type": "stream",
     "text": [
      "3\n"
     ]
    }
   ],
   "source": [
    "print(sum)"
   ]
  },
  {
   "cell_type": "code",
   "execution_count": 2,
   "id": "adbfe603",
   "metadata": {},
   "outputs": [
    {
     "name": "stdout",
     "output_type": "stream",
     "text": [
      "sum\n"
     ]
    }
   ],
   "source": [
    "print('sum')"
   ]
  },
  {
   "cell_type": "markdown",
   "id": "15346cb7",
   "metadata": {},
   "source": [
    "a라는 변수명에 '기술'\n",
    "b라는 변수명에 '보증'\n",
    "c라는 변수명에 '기금'"
   ]
  },
  {
   "cell_type": "code",
   "execution_count": 7,
   "id": "1d1ddbd4",
   "metadata": {},
   "outputs": [
    {
     "name": "stdout",
     "output_type": "stream",
     "text": [
      "기술 보증 기금\n"
     ]
    }
   ],
   "source": [
    "a = '기술'\n",
    "b = '보증'\n",
    "c = '기금'\n",
    "print(a, b, c)"
   ]
  },
  {
   "cell_type": "markdown",
   "id": "f5e588a6",
   "metadata": {},
   "source": [
    "print() 안에 여러 개의 변수를 한 번에 출력하는 경우 ,(쉼표)로 구분하여 작성"
   ]
  },
  {
   "cell_type": "markdown",
   "id": "c1e86b20",
   "metadata": {},
   "source": [
    "## 변수 명명 규칙\n",
    "\n",
    "1. 영문자와 숫자를 사용 (한글 사용도 가능하지만 가급적 영문 변수명을 사용)\n",
    "2. 대소문자를 구분 (a라는 변수와 A라는 변수는 서로 다른 그릇)\n",
    "3. 숫자 먼저 사용하면 X (무조건 영문자 먼저!)\n",
    "4. 특수 문자는 _ 언더스코어만 사용 가능\n",
    "5. 파이썬의 키워드는 사용 할 수 없음(앞으로 배우는 문법의 이름)\n",
    "   ex. if, for, class, and, or 등"
   ]
  },
  {
   "cell_type": "code",
   "execution_count": 18,
   "id": "501aa3f5",
   "metadata": {},
   "outputs": [
    {
     "name": "stdout",
     "output_type": "stream",
     "text": [
      "123 456\n"
     ]
    }
   ],
   "source": [
    "a = 123\n",
    "A = 456\n",
    "print(a, A)"
   ]
  },
  {
   "cell_type": "code",
   "execution_count": 21,
   "id": "bf6d7ea1",
   "metadata": {},
   "outputs": [
    {
     "name": "stdout",
     "output_type": "stream",
     "text": [
      "789\n"
     ]
    }
   ],
   "source": [
    "a = 789\n",
    "print(a)"
   ]
  }
 ],
 "metadata": {
  "kernelspec": {
   "display_name": "Python 3 (ipykernel)",
   "language": "python",
   "name": "python3"
  },
  "language_info": {
   "codemirror_mode": {
    "name": "ipython",
    "version": 3
   },
   "file_extension": ".py",
   "mimetype": "text/x-python",
   "name": "python",
   "nbconvert_exporter": "python",
   "pygments_lexer": "ipython3",
   "version": "3.11.5"
  }
 },
 "nbformat": 4,
 "nbformat_minor": 5
}
