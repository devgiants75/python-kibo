{
 "cells": [
  {
   "cell_type": "markdown",
   "id": "e63a5aae",
   "metadata": {},
   "source": [
    "# d_dataType\n",
    "\n",
    "# 파이썬의 기본 데이터 타입(자료형)\n",
    "\n",
    "1. 데이터 타입 종류\n",
    "    : 숫자형, 문자열, 불리언, 리스트, 튜플, 딕셔너리, 집합"
   ]
  },
  {
   "cell_type": "markdown",
   "id": "0d04e1dc",
   "metadata": {},
   "source": [
    "## 1. 숫자형\n",
    "    : 정수(음수, 0, 양수) - int\n",
    "    : 실수(소수점이 포함된 수) - float"
   ]
  },
  {
   "cell_type": "code",
   "execution_count": 1,
   "id": "50ec7dff",
   "metadata": {},
   "outputs": [
    {
     "name": "stdout",
     "output_type": "stream",
     "text": [
      "2\n"
     ]
    }
   ],
   "source": [
    "number = 1.1\n",
    "number = 0\n",
    "number = -3.143587902384\n",
    "number = 2\n",
    "print(number)"
   ]
  },
  {
   "cell_type": "code",
   "execution_count": 4,
   "id": "6ccb8fbd",
   "metadata": {},
   "outputs": [
    {
     "name": "stdout",
     "output_type": "stream",
     "text": [
      "1\n",
      "10.0\n"
     ]
    }
   ],
   "source": [
    "intNumber = int(1.32498234798)\n",
    "print(intNumber)\n",
    "floatNumber = float(10)\n",
    "print(floatNumber)"
   ]
  },
  {
   "cell_type": "markdown",
   "id": "f26afb48",
   "metadata": {},
   "source": [
    "## 2. 문자열(string)\n",
    "    : 문자, 단어 등으로 이루어진 문자들의 집합\n",
    "    : 큰따옴표, 작은따옴표, 큰따옴표3개, 작은따옴표3개 (4가지 방법으로 선언 가능)"
   ]
  },
  {
   "cell_type": "code",
   "execution_count": 7,
   "id": "d94bd9b6",
   "metadata": {},
   "outputs": [],
   "source": [
    "string1 = \"큰따옴표\"\n",
    "string2 = '작은따옴표'\n",
    "string3 = \"\"\"\n",
    "여러 줄로 문장을 표현할 때\n",
    "따옴표 3개를 사용\n",
    "\"\"\"\n",
    "\n",
    "# 문자열 내에서 따옴표 사용 시\n",
    "# 작은 따옴표를 사용하는 경우 큰 따옴표로 묶는다.\n",
    "# 큰 따옴표를 사용하는 경우 작은 따옴표로 묶는다.\n",
    "sentence1 = \"I'll be back!\"\n",
    "sentence2 = '\"I like Python\", she says'"
   ]
  },
  {
   "cell_type": "code",
   "execution_count": 10,
   "id": "6fbeb0ba",
   "metadata": {},
   "outputs": [
    {
     "name": "stdout",
     "output_type": "stream",
     "text": [
      "I'll be back!\"I like Python\", she says\n",
      "I'll be back!I'll be back!I'll be back!\n"
     ]
    }
   ],
   "source": [
    "# 문자열 연산\n",
    "# : 문자열을 서로 더하는 경우 해당 문자열들을 이어서 하나의 문자열로 반환\n",
    "print(sentence1 + sentence2)\n",
    "\n",
    "# : 문자열에 곱셈식을 사용하는 경우 문자열을 정수배 만큼 반복해서 연결\n",
    "print(sentence1 * 3)"
   ]
  },
  {
   "cell_type": "markdown",
   "id": "084ff701",
   "metadata": {},
   "source": [
    "## 3. 논리형(불리언, Boolean)\n",
    "    : 참(True)과 거짓(False)의 두 개의 값만을 가지는 자료형\n",
    "    : 파이썬의 경우 첫문자를 반드시 대문자로 사용해야 함."
   ]
  },
  {
   "cell_type": "code",
   "execution_count": 12,
   "id": "a7912a61",
   "metadata": {},
   "outputs": [
    {
     "name": "stdout",
     "output_type": "stream",
     "text": [
      "<class 'bool'>\n",
      "<class 'int'>\n",
      "<class 'str'>\n"
     ]
    }
   ],
   "source": [
    "bool1 = True\n",
    "bool2 = False\n",
    "\n",
    "# type이라는 키워드를 사용하여 해당 변수의 자료형을 파악 (파이썬의 내장 함수)\n",
    "print(type(bool1))\n",
    "\n",
    "num1 = 123\n",
    "str1 = ''\n",
    "print(type(num1))\n",
    "print(type(str1))"
   ]
  },
  {
   "cell_type": "code",
   "execution_count": null,
   "id": "7a35fde3",
   "metadata": {},
   "outputs": [],
   "source": []
  }
 ],
 "metadata": {
  "kernelspec": {
   "display_name": "Python 3 (ipykernel)",
   "language": "python",
   "name": "python3"
  },
  "language_info": {
   "codemirror_mode": {
    "name": "ipython",
    "version": 3
   },
   "file_extension": ".py",
   "mimetype": "text/x-python",
   "name": "python",
   "nbconvert_exporter": "python",
   "pygments_lexer": "ipython3",
   "version": "3.11.5"
  }
 },
 "nbformat": 4,
 "nbformat_minor": 5
}
