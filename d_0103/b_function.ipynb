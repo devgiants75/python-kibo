{
 "cells": [
  {
   "cell_type": "markdown",
   "id": "9897e382",
   "metadata": {},
   "source": [
    "# b_function\n",
    "\n",
    "## 함수의 정의\n",
    ": 재사용 가능한 코드 블럭, 특정 작업을 수행하기 위한 도구\n",
    ": def 키워드를 사용하여 정의\n",
    "\n",
    "## 함수의 기본 구조\n"
   ]
  }
 ],
 "metadata": {
  "kernelspec": {
   "display_name": "Python 3 (ipykernel)",
   "language": "python",
   "name": "python3"
  },
  "language_info": {
   "codemirror_mode": {
    "name": "ipython",
    "version": 3
   },
   "file_extension": ".py",
   "mimetype": "text/x-python",
   "name": "python",
   "nbconvert_exporter": "python",
   "pygments_lexer": "ipython3",
   "version": "3.11.5"
  }
 },
 "nbformat": 4,
 "nbformat_minor": 5
}
