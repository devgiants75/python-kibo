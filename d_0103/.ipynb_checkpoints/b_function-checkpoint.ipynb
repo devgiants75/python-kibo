{
 "cells": [
  {
   "cell_type": "markdown",
   "id": "42912555",
   "metadata": {},
   "source": [
    "# b_function\n",
    "\n",
    "## 함수의 정의\n",
    ": 재사용 가능한 코드 블럭, 특정 작업을 수행하기 위한 도구\n",
    ": def 키워드를 사용하여 정의\n",
    "\n",
    "## 함수의 기본 구조\n",
    "def 함수명(매개변수):\n",
    "    # 실행할 코드\n",
    "    return 반환값\n",
    "    \n",
    "### 파이썬 함수의 명명규칙\n",
    ": 소문자로 작성"
   ]
  },
  {
   "cell_type": "code",
   "execution_count": 1,
   "id": "74b2a11a",
   "metadata": {},
   "outputs": [
    {
     "name": "stdout",
     "output_type": "stream",
     "text": [
      "7\n"
     ]
    }
   ],
   "source": [
    "# 더하기 함수\n",
    "def add(a, b):\n",
    "    return a + b\n",
    "\n",
    "result = add(3, 4)\n",
    "print(result)\n",
    "\n",
    "# 매개변수: 함수에 전달되는 데이터 \n",
    "# - 함수 내부에서 다른 변수와 동일하게 사용\n",
    "# - 함수를 호출(사용)할 때 변수에 값을 전달\n",
    "\n",
    "# 반환값: return을 통해 함수의 결과 계산 후의 데이터를 반환\n",
    "# - 함수는 함수가 반환되는 시점에 종료\n",
    "# - 함수의 결과는 반환값을 통해 전달"
   ]
  },
  {
   "cell_type": "code",
   "execution_count": 4,
   "id": "aa9c3538",
   "metadata": {},
   "outputs": [
    {
     "name": "stdout",
     "output_type": "stream",
     "text": [
      "30\n",
      "Hello\n",
      "Hello\n"
     ]
    }
   ],
   "source": [
    "# 함수의 형태에서 매개변수와 반환값은 필수 X\n",
    "\n",
    "# 입력과 결과가 모두 있는 함수\n",
    "def multiply(x, y):\n",
    "    product = x * y\n",
    "    return product\n",
    "result = multiply(5, 6)\n",
    "print(result)\n",
    "\n",
    "# 입력이 없는 함수(매개 변수 X)\n",
    "def say_hello():\n",
    "    return \"Hello\"\n",
    "\n",
    "# 함수 호출: 함수명()\n",
    "greeting = say_hello()\n",
    "print(greeting)\n",
    "\n",
    "# 결과가 없는 함수(반환값 X)\n",
    "def print_hello():\n",
    "    print(\"Hello\") # 반환되는 값은 없지만 해당 함수 호출 시 실행\n",
    "    \n",
    "print_hello() # hello"
   ]
  },
  {
   "cell_type": "markdown",
   "id": "41a6f34e",
   "metadata": {},
   "source": [
    "# 파이썬 함수 만들기 예제\n",
    "## BMI 계산기\n",
    "\n",
    "BMI\n",
    ": 체질량 지수\n",
    ": 체중과 키를 사용하여 개인의 체질량을 평가하는 지수\n",
    ": BMI = 체중(kg) / 신장(m) * 신장(m)\n",
    "\n",
    "18.5 미만: 저체중\n",
    "18.5 이상 24.9 미만: 정상\n",
    "25 이상 29.9 미만: 과체중\n",
    "30 이상: 비만"
   ]
  },
  {
   "cell_type": "code",
   "execution_count": 1,
   "id": "f2c97078",
   "metadata": {},
   "outputs": [
    {
     "name": "stdout",
     "output_type": "stream",
     "text": [
      "키(cm)를 입력하세요.169\n",
      "몸무게(kg)를 입력하세요.55\n"
     ]
    },
    {
     "ename": "NameError",
     "evalue": "name 'bmi_classificion' is not defined",
     "output_type": "error",
     "traceback": [
      "\u001b[1;31m---------------------------------------------------------------------------\u001b[0m",
      "\u001b[1;31mNameError\u001b[0m                                 Traceback (most recent call last)",
      "Cell \u001b[1;32mIn[1], line 33\u001b[0m\n\u001b[0;32m     29\u001b[0m bmi_classification \u001b[38;5;241m=\u001b[39m classify_bmi(bmi)\n\u001b[0;32m     31\u001b[0m \u001b[38;5;66;03m# 결과 출력\u001b[39;00m\n\u001b[0;32m     32\u001b[0m \u001b[38;5;66;03m# 소수점 결과가 나올 수 있는 bmi의 소수점 자릿수 지정\u001b[39;00m\n\u001b[1;32m---> 33\u001b[0m \u001b[38;5;28mprint\u001b[39m(\u001b[38;5;124mf\u001b[39m\u001b[38;5;124m\"\u001b[39m\u001b[38;5;124m당신의 BMI는 \u001b[39m\u001b[38;5;132;01m{\u001b[39;00mbmi\u001b[38;5;132;01m:\u001b[39;00m\u001b[38;5;124m.2f\u001b[39m\u001b[38;5;132;01m}\u001b[39;00m\u001b[38;5;124m이며, \u001b[39m\u001b[38;5;132;01m{\u001b[39;00mbmi_classificion\u001b[38;5;132;01m}\u001b[39;00m\u001b[38;5;124m입니다.\u001b[39m\u001b[38;5;124m\"\u001b[39m)\n",
      "\u001b[1;31mNameError\u001b[0m: name 'bmi_classificion' is not defined"
     ]
    }
   ],
   "source": [
    "def calculate_bmi(height, weight):\n",
    "    # BMI 공식 계산\n",
    "    height_meters = height / 100 # 키를 미터로 변환\n",
    "    bmi = weight / (height_meters ** 2)\n",
    "    return bmi\n",
    "\n",
    "def classify_bmi(bmi):\n",
    "    # BMI 결과에 따른 체질량 확인\n",
    "    if bmi < 18.5:\n",
    "        return \"저체중\"\n",
    "    elif 18.5 <= bmi < 24.9:\n",
    "        return \"정상\"\n",
    "    elif 25 <= bmi < 29.9:\n",
    "        return \"과체중\"\n",
    "    else:\n",
    "        return \"비만\"\n",
    "    \n",
    "# 사용자로부터 키와 몸무게를 입력 받기\n",
    "# input()함수의 경우 입력받은 결과를 문자열로 인식\n",
    "# float()함수를 사용하여 실수로 변환\n",
    "height = float(input(\"키(cm)를 입력하세요.\"))\n",
    "weight = float(input(\"몸무게(kg)를 입력하세요.\"))\n",
    "\n",
    "# BMI 계산\n",
    "# : 함수 생성 시 작성했던 매개변수 순서대로 입력받은 데이터 전달\n",
    "bmi = calculate_bmi(height, weight)\n",
    "\n",
    "# 체질량 결과 확인\n",
    "bmi_classification = classify_bmi(bmi)\n",
    "\n",
    "# 결과 출력\n",
    "# 소수점 결과가 나올 수 있는 bmi의 소수점 자릿수 지정\n",
    "print(f\"당신의 BMI는 {bmi:.2f}이며, {bmi_classification}입니다.\")"
   ]
  },
  {
   "cell_type": "code",
   "execution_count": null,
   "id": "56a682ba",
   "metadata": {},
   "outputs": [],
   "source": []
  }
 ],
 "metadata": {
  "kernelspec": {
   "display_name": "Python 3 (ipykernel)",
   "language": "python",
   "name": "python3"
  },
  "language_info": {
   "codemirror_mode": {
    "name": "ipython",
    "version": 3
   },
   "file_extension": ".py",
   "mimetype": "text/x-python",
   "name": "python",
   "nbconvert_exporter": "python",
   "pygments_lexer": "ipython3",
   "version": "3.11.5"
  }
 },
 "nbformat": 4,
 "nbformat_minor": 5
}
