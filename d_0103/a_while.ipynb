{
 "cells": [
  {
   "cell_type": "markdown",
   "id": "d76cc7a5",
   "metadata": {},
   "source": [
    "# 파이썬 반복문 - while문\n",
    "\n",
    "### 개념\n",
    ": 조건이 참(True)인 동안 반복적으로 코드 블록을 실행\n",
    ": 조건이 거짓(False)이 되면 반복이 멈춤\n",
    "\n",
    "### 기본 구조\n",
    "while 조건식:\n",
    "    해당 조건이 참일 경우 반복할 코드 작성"
   ]
  },
  {
   "cell_type": "code",
   "execution_count": 3,
   "id": "d0c5e421",
   "metadata": {},
   "outputs": [
    {
     "name": "stdout",
     "output_type": "stream",
     "text": [
      "i의 현재 값: 0\n",
      "i의 현재 값: 1\n",
      "i의 현재 값: 2\n",
      "i의 현재 값: 3\n",
      "i의 현재 값: 4\n"
     ]
    }
   ],
   "source": [
    "i = 0;\n",
    "while i < 5:\n",
    "    print(f\"i의 현재 값: {i}\")\n",
    "    i += 1 # i = i + 1\n",
    "    \n",
    "# while 반복문 사용 시 주의사항\n",
    "# : while 반복문의 조건이 거짓이 될 수 없는 조건식일 경우\n",
    "# : while 반복문이 무한 루프에 빠지게 되어 \n",
    "# : 프로그램을 손상시킬 위험이 증가"
   ]
  },
  {
   "cell_type": "code",
   "execution_count": 5,
   "id": "6de51fe5",
   "metadata": {},
   "outputs": [
    {
     "name": "stdout",
     "output_type": "stream",
     "text": [
      "i의 현재 값: 0\n",
      "i의 현재 값: 1\n",
      "i의 현재 값: 2\n",
      "i의 현재 값: 3\n"
     ]
    }
   ],
   "source": [
    "# while 반복문의 break문\n",
    "# : 현재 실행 중인 반복문을 즉시 종료시키는 데 사용\n",
    "\n",
    "i = 0\n",
    "while True:\n",
    "    print(f\"i의 현재 값: {i}\")\n",
    "    if i == 3:\n",
    "        break \n",
    "        # while문의 break는 주로 조건문과 함께 사용되어 특정 조건에서 \n",
    "        # 반복을 중단시키는 기능\n",
    "    i += 1    \n",
    "        "
   ]
  },
  {
   "cell_type": "code",
   "execution_count": 6,
   "id": "04d70673",
   "metadata": {},
   "outputs": [
    {
     "name": "stdout",
     "output_type": "stream",
     "text": [
      "i의 현재 값: 1\n",
      "i의 현재 값: 2\n",
      "i의 현재 값: 4\n",
      "i의 현재 값: 5\n"
     ]
    }
   ],
   "source": [
    "# while 반복문의 continue문\n",
    "# : 반복문의 나머지 부분을 건너뛰고 다음 반복으로 진행\n",
    "# : 주로 특정 조건에서 현재 반복의 나머지 부분을 건너뛰기 위해 사용\n",
    "\n",
    "i = 0\n",
    "while i < 5:\n",
    "    i += 1\n",
    "    if i == 3:\n",
    "        continue # i변수가 3인 경우에는 아래의 print문이 출력 X -> while 조건으로 이동\n",
    "    print(f\"i의 현재 값: {i}\")  "
   ]
  },
  {
   "cell_type": "markdown",
   "id": "9042554c",
   "metadata": {},
   "source": [
    "# 조건문/반복문 연습 예제\n",
    "## 로또 번호 자동 추첨기\n",
    "\n",
    "1. 로또 번호를 최종적으로 리스트 형태로 관리 []\n",
    "2. random 모듈\n",
    "    : 파이썬 표준 라이브러리, 난수(무작위 수)를 생성하는 데 사용\n",
    "    : random 모듈 내의 randint(a, b) 함수\n",
    "        - a와 b 사이의 임의의 정수를 반환(양 끝 값을 포함)"
   ]
  },
  {
   "cell_type": "code",
   "execution_count": 7,
   "id": "2498d0a4",
   "metadata": {},
   "outputs": [
    {
     "name": "stdout",
     "output_type": "stream",
     "text": [
      "생성된 로또 번호 :  [6, 12, 16, 21, 25, 43]\n"
     ]
    }
   ],
   "source": [
    "# random 모듈을 사용하기 위한 import문\n",
    "import random\n",
    "\n",
    "# 로또 번호를 저장할 빈 리스트 생성\n",
    "lotte_numbers = []\n",
    "\n",
    "# 로또 번호가 6개가 될 때까지 반복\n",
    "# len(): 길이를 구하는 함수\n",
    "while len(lotte_numbers) < 6:\n",
    "    # 1부터 45까지의 숫자 중 하나를 랜덤하게 선택\n",
    "    number = random.randint(1, 45)\n",
    "    # 현재 선택된 번호가 아직 리스트에 없다면,\n",
    "    # in연산자: 어떤 요소가 해당 데이터 내에 존재하는지를 확인할 때 사용\n",
    "    #           요소가 있으면 True, 없으면 False (not in의 경우 반대)\n",
    "    if number not in lotte_numbers:\n",
    "        # 요소가 없다면, 리스트에 번호를 추가\n",
    "        lotte_numbers.append(number)\n",
    "        \n",
    "# 추출된 번호를 오름차순으로 정렬\n",
    "lotte_numbers.sort()\n",
    "\n",
    "# 생성된 로또 번호 출력\n",
    "print(\"생성된 로또 번호 : \", lotte_numbers)"
   ]
  },
  {
   "cell_type": "code",
   "execution_count": null,
   "id": "3eadba9f",
   "metadata": {},
   "outputs": [],
   "source": []
  }
 ],
 "metadata": {
  "kernelspec": {
   "display_name": "Python 3 (ipykernel)",
   "language": "python",
   "name": "python3"
  },
  "language_info": {
   "codemirror_mode": {
    "name": "ipython",
    "version": 3
   },
   "file_extension": ".py",
   "mimetype": "text/x-python",
   "name": "python",
   "nbconvert_exporter": "python",
   "pygments_lexer": "ipython3",
   "version": "3.11.5"
  }
 },
 "nbformat": 4,
 "nbformat_minor": 5
}
